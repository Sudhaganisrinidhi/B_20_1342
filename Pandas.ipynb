{
  "nbformat": 4,
  "nbformat_minor": 0,
  "metadata": {
    "colab": {
      "provenance": [],
      "authorship_tag": "ABX9TyNSlrTSGOz+ZM8bVy+d9bKW",
      "include_colab_link": true
    },
    "kernelspec": {
      "name": "python3",
      "display_name": "Python 3"
    },
    "language_info": {
      "name": "python"
    }
  },
  "cells": [
    {
      "cell_type": "markdown",
      "metadata": {
        "id": "view-in-github",
        "colab_type": "text"
      },
      "source": [
        "<a href=\"https://colab.research.google.com/github/Sudhaganisrinidhi/B_20_1342/blob/main/Pandas.ipynb\" target=\"_parent\"><img src=\"https://colab.research.google.com/assets/colab-badge.svg\" alt=\"Open In Colab\"/></a>"
      ]
    },
    {
      "cell_type": "code",
      "source": [
        "import pandas as pd\n",
        "data=[10,20,30,40,50]\n",
        "series=pd.Series(data)\n",
        "print(\"pandas Series:\")\n",
        "print(series)"
      ],
      "metadata": {
        "colab": {
          "base_uri": "https://localhost:8080/"
        },
        "id": "3Rw0WelVM0PR",
        "outputId": "677c8ac4-c17f-47b2-ac3c-6145fa749e74"
      },
      "execution_count": 8,
      "outputs": [
        {
          "output_type": "stream",
          "name": "stdout",
          "text": [
            "pandas Series:\n",
            "0    10\n",
            "1    20\n",
            "2    30\n",
            "3    40\n",
            "4    50\n",
            "dtype: int64\n"
          ]
        }
      ]
    },
    {
      "cell_type": "code",
      "source": [
        "import pandas as pd\n",
        "data=[10,20,30,40,50]\n",
        "index_label=['a','b','c','d','e']\n",
        "Series=pd.Series(data,index=index_label)\n",
        "print(Series)\n"
      ],
      "metadata": {
        "colab": {
          "base_uri": "https://localhost:8080/"
        },
        "id": "ezWZJhdgi6N2",
        "outputId": "0756fbd1-dde5-4279-ddc0-62cceeaf0ee4"
      },
      "execution_count": null,
      "outputs": [
        {
          "output_type": "stream",
          "name": "stdout",
          "text": [
            "a    10\n",
            "b    20\n",
            "c    30\n",
            "d    40\n",
            "e    50\n",
            "dtype: int64\n"
          ]
        }
      ]
    },
    {
      "cell_type": "code",
      "source": [
        "import pandas as pd\n",
        "data={\n",
        "'Name':['alice','bob','charlie','david'],\n",
        "'Age':[25,30,35,49],\n",
        "'City':['hyd','delhi','chennai','mumbai']\n",
        "}\n",
        "df=pd.DataFrame(data)\n",
        "print(df)"
      ],
      "metadata": {
        "colab": {
          "base_uri": "https://localhost:8080/"
        },
        "id": "wsCaebq3i23j",
        "outputId": "a0478790-b63c-41f5-faed-d482dcaa02a6"
      },
      "execution_count": 9,
      "outputs": [
        {
          "output_type": "stream",
          "name": "stdout",
          "text": [
            "      Name  Age     City\n",
            "0    alice   25      hyd\n",
            "1      bob   30    delhi\n",
            "2  charlie   35  chennai\n",
            "3    david   49   mumbai\n"
          ]
        }
      ]
    },
    {
      "cell_type": "code",
      "source": [
        "print(df['Name'])"
      ],
      "metadata": {
        "colab": {
          "base_uri": "https://localhost:8080/"
        },
        "id": "5afheOWrlP_T",
        "outputId": "f5620689-0f4b-458a-90c1-a9d8d06b860e"
      },
      "execution_count": 10,
      "outputs": [
        {
          "output_type": "stream",
          "name": "stdout",
          "text": [
            "0      alice\n",
            "1        bob\n",
            "2    charlie\n",
            "3      david\n",
            "Name: Name, dtype: object\n"
          ]
        }
      ]
    },
    {
      "cell_type": "code",
      "source": [
        "print(df[['Name','City']])"
      ],
      "metadata": {
        "colab": {
          "base_uri": "https://localhost:8080/"
        },
        "id": "yglgXC8slZIl",
        "outputId": "16a0f6b5-822b-451c-cf88-124193089fca"
      },
      "execution_count": 11,
      "outputs": [
        {
          "output_type": "stream",
          "name": "stdout",
          "text": [
            "      Name     City\n",
            "0    alice      hyd\n",
            "1      bob    delhi\n",
            "2  charlie  chennai\n",
            "3    david   mumbai\n"
          ]
        }
      ]
    },
    {
      "cell_type": "code",
      "source": [
        "print(df.iloc[1])\n",
        "print(df.loc[2])"
      ],
      "metadata": {
        "colab": {
          "base_uri": "https://localhost:8080/"
        },
        "id": "B3khow8HlnIZ",
        "outputId": "799b9def-58ad-4bd8-cf62-a7ea5e9af22a"
      },
      "execution_count": 12,
      "outputs": [
        {
          "output_type": "stream",
          "name": "stdout",
          "text": [
            "Name      bob\n",
            "Age        30\n",
            "City    delhi\n",
            "Name: 1, dtype: object\n",
            "Name    charlie\n",
            "Age          35\n",
            "City    chennai\n",
            "Name: 2, dtype: object\n"
          ]
        }
      ]
    },
    {
      "cell_type": "code",
      "source": [
        "df['Salary']=[40000,50000,60000,70000]\n",
        "print(df)"
      ],
      "metadata": {
        "colab": {
          "base_uri": "https://localhost:8080/"
        },
        "id": "q4KncJX2l04F",
        "outputId": "84f1b557-294b-492c-ec6f-e42b1b2e7d6c"
      },
      "execution_count": 13,
      "outputs": [
        {
          "output_type": "stream",
          "name": "stdout",
          "text": [
            "      Name  Age     City  Salary\n",
            "0    alice   25      hyd   40000\n",
            "1      bob   30    delhi   50000\n",
            "2  charlie   35  chennai   60000\n",
            "3    david   49   mumbai   70000\n"
          ]
        }
      ]
    },
    {
      "cell_type": "code",
      "source": [
        "df=df.drop('City',axis=1)\n",
        "print(df)"
      ],
      "metadata": {
        "colab": {
          "base_uri": "https://localhost:8080/"
        },
        "id": "ahZ1-d1mmFLF",
        "outputId": "d42c58c0-3ca4-48e0-fe92-d164eb440af0"
      },
      "execution_count": 14,
      "outputs": [
        {
          "output_type": "stream",
          "name": "stdout",
          "text": [
            "      Name  Age  Salary\n",
            "0    alice   25   40000\n",
            "1      bob   30   50000\n",
            "2  charlie   35   60000\n",
            "3    david   49   70000\n"
          ]
        }
      ]
    },
    {
      "cell_type": "code",
      "source": [
        "print(df[df['Age']>30])"
      ],
      "metadata": {
        "colab": {
          "base_uri": "https://localhost:8080/"
        },
        "id": "0gEdhGpFmToL",
        "outputId": "1e22ddd1-f429-4690-ca67-76a0dc677d80"
      },
      "execution_count": null,
      "outputs": [
        {
          "output_type": "stream",
          "name": "stdout",
          "text": [
            "      Name  Age  Salary\n",
            "2  charlie   35   60000\n",
            "3    david   49   70000\n"
          ]
        }
      ]
    },
    {
      "cell_type": "code",
      "source": [
        "print(df['Age'].mean())\n",
        "print(df['Age'].max())\n",
        "print(df['Age'].min())\n"
      ],
      "metadata": {
        "colab": {
          "base_uri": "https://localhost:8080/"
        },
        "id": "k_Qmv5FMmgIc",
        "outputId": "804f8056-3de3-4e61-911f-df246631278e"
      },
      "execution_count": null,
      "outputs": [
        {
          "output_type": "stream",
          "name": "stdout",
          "text": [
            "34.75\n",
            "49\n",
            "25\n"
          ]
        }
      ]
    },
    {
      "cell_type": "code",
      "source": [
        "import pandas as pd\n",
        "student_data={\n",
        "    'Student_ID':[101,102,103,104],\n",
        "    'Name':['ravi','neha','kiran','sita'],\n",
        "    'Marks':[85,90,78,82],\n",
        "    'Department':['CSE','ECE','MECH','CSE']\n",
        "}\n",
        "df=pd.DataFrame(student_data)\n",
        "print(\"Student Data:\")\n",
        "print(df)\n"
      ],
      "metadata": {
        "id": "y9VADZx_m--R",
        "colab": {
          "base_uri": "https://localhost:8080/"
        },
        "outputId": "9e1904bf-5bc5-4943-c1b3-0cdfdd7a992c"
      },
      "execution_count": 16,
      "outputs": [
        {
          "output_type": "stream",
          "name": "stdout",
          "text": [
            "Student Data:\n",
            "   Student_ID   Name  Marks Department\n",
            "0         101   ravi     85        CSE\n",
            "1         102   neha     90        ECE\n",
            "2         103  kiran     78       MECH\n",
            "3         104   sita     82        CSE\n"
          ]
        }
      ]
    },
    {
      "cell_type": "code",
      "source": [
        "print(\"\\nStudents with Marks greater than 80:\")\n",
        "print(df[df['Marks']>80])"
      ],
      "metadata": {
        "colab": {
          "base_uri": "https://localhost:8080/"
        },
        "id": "s9FI_IqvQXnL",
        "outputId": "87b53aba-af8d-4665-b020-1b0bd95054c8"
      },
      "execution_count": 17,
      "outputs": [
        {
          "output_type": "stream",
          "name": "stdout",
          "text": [
            "\n",
            "Students with Marks greater than 80:\n",
            "   Student_ID  Name  Marks Department\n",
            "0         101  ravi     85        CSE\n",
            "1         102  neha     90        ECE\n",
            "3         104  sita     82        CSE\n"
          ]
        }
      ]
    },
    {
      "cell_type": "code",
      "source": [
        "print(\"\\nAveage Marks:\",df['Marks'].mean())\n",
        "df['Result']=['Pass' if x>=40 else 'Fail' for x in df['Marks']]\n",
        "print(\"\\nWith Result Column:\")\n",
        "print(df)"
      ],
      "metadata": {
        "colab": {
          "base_uri": "https://localhost:8080/"
        },
        "id": "aQVnh26dQe7N",
        "outputId": "942dad7a-fea2-4ef6-e4e4-58f321810e75"
      },
      "execution_count": 18,
      "outputs": [
        {
          "output_type": "stream",
          "name": "stdout",
          "text": [
            "\n",
            "Aveage Marks: 83.75\n",
            "\n",
            "With Result Column:\n",
            "   Student_ID   Name  Marks Department Result\n",
            "0         101   ravi     85        CSE   Pass\n",
            "1         102   neha     90        ECE   Pass\n",
            "2         103  kiran     78       MECH   Pass\n",
            "3         104   sita     82        CSE   Pass\n"
          ]
        }
      ]
    }
  ]
}