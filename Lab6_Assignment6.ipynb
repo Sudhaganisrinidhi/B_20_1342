{
  "nbformat": 4,
  "nbformat_minor": 0,
  "metadata": {
    "colab": {
      "provenance": [],
      "authorship_tag": "ABX9TyNxY+PclKTeJRqUrwKWaTQ1",
      "include_colab_link": true
    },
    "kernelspec": {
      "name": "python3",
      "display_name": "Python 3"
    },
    "language_info": {
      "name": "python"
    }
  },
  "cells": [
    {
      "cell_type": "markdown",
      "metadata": {
        "id": "view-in-github",
        "colab_type": "text"
      },
      "source": [
        "<a href=\"https://colab.research.google.com/github/Sudhaganisrinidhi/B_20_1342/blob/main/Lab6_Assignment6.ipynb\" target=\"_parent\"><img src=\"https://colab.research.google.com/assets/colab-badge.svg\" alt=\"Open In Colab\"/></a>"
      ]
    },
    {
      "cell_type": "code",
      "execution_count": 22,
      "metadata": {
        "colab": {
          "base_uri": "https://localhost:8080/",
          "height": 0
        },
        "id": "OucBzdFn8FRr",
        "outputId": "2a5d4d2c-8217-4529-91f1-992c0b379418"
      },
      "outputs": [
        {
          "output_type": "stream",
          "name": "stdout",
          "text": [
            "First few rows:\n",
            "   Patient_ID  Age  Gender      Condition                 Procedure   Cost  \\\n",
            "0           1   45  Female  Heart Disease               Angioplasty  15000   \n",
            "1           2   60    Male       Diabetes           Insulin Therapy   2000   \n",
            "2           3   32  Female  Fractured Arm          X-Ray and Splint    500   \n",
            "3           4   75    Male         Stroke    CT Scan and Medication  10000   \n",
            "4           5   50  Female         Cancer  Surgery and Chemotherapy  25000   \n",
            "\n",
            "   Length_of_Stay Readmission    Outcome  Satisfaction  \n",
            "0               5          No  Recovered             4  \n",
            "1               3         Yes     Stable             3  \n",
            "2               1          No  Recovered             5  \n",
            "3               7         Yes     Stable             2  \n",
            "4              10          No  Recovered             4  \n"
          ]
        }
      ],
      "source": [
        "import pandas as pd\n",
        "import numpy as np\n",
        "df = pd.read_csv('hospital data analysis.csv')\n",
        "print(\"First few rows:\")\n",
        "print(df.head())"
      ]
    },
    {
      "cell_type": "code",
      "source": [
        "print(\"\\nAge column statistics BEFORE cleaning:\")\n",
        "print(df['Age'].describe())\n",
        "print(\"Any ages < 0? \", (df['Age'] < 0).sum())\n",
        "print(\"Any ages > 120? \", (df['Age'] > 120).sum())"
      ],
      "metadata": {
        "colab": {
          "base_uri": "https://localhost:8080/",
          "height": 0
        },
        "id": "LsMOYQ5L9DW9",
        "outputId": "45ec49b6-a6af-430d-b906-254ef34f4d8f"
      },
      "execution_count": 34,
      "outputs": [
        {
          "output_type": "stream",
          "name": "stdout",
          "text": [
            "\n",
            "Age column statistics BEFORE cleaning:\n",
            "count    984.000000\n",
            "mean      53.754065\n",
            "std       14.941135\n",
            "min       25.000000\n",
            "25%       45.000000\n",
            "50%       55.000000\n",
            "75%       65.000000\n",
            "max       78.000000\n",
            "Name: Age, dtype: float64\n",
            "Any ages < 0?  0\n",
            "Any ages > 120?  0\n"
          ]
        }
      ]
    },
    {
      "cell_type": "code",
      "source": [
        "print(\"\\nRows with invalid ages (<0 or >120):\")\n",
        "print(df[df['Age'] < 0])\n",
        "print(df[df['Age'] > 120])"
      ],
      "metadata": {
        "colab": {
          "base_uri": "https://localhost:8080/",
          "height": 0
        },
        "id": "EMFvnarW-SDC",
        "outputId": "70cb9afb-22df-441a-fbe1-900682983739"
      },
      "execution_count": 26,
      "outputs": [
        {
          "output_type": "stream",
          "name": "stdout",
          "text": [
            "\n",
            "Rows with invalid ages (<0 or >120):\n",
            "Empty DataFrame\n",
            "Columns: [Patient_ID, Age, Gender, Condition, Procedure, Cost, Length_of_Stay, Readmission, Outcome, Satisfaction]\n",
            "Index: []\n",
            "Empty DataFrame\n",
            "Columns: [Patient_ID, Age, Gender, Condition, Procedure, Cost, Length_of_Stay, Readmission, Outcome, Satisfaction]\n",
            "Index: []\n"
          ]
        }
      ]
    },
    {
      "cell_type": "code",
      "source": [
        "df_clean = df[(df['Age'] >= 0) & (df['Age'] <= 120)].copy()"
      ],
      "metadata": {
        "id": "dTJiUb2m-iwk"
      },
      "execution_count": 27,
      "outputs": []
    },
    {
      "cell_type": "code",
      "source": [
        "print(\"\\nAge column statistics AFTER cleaning:\")\n",
        "print(df_clean['Age'].describe())\n",
        "print(\"Any Ages < 0? \", (df_clean['Age'] < 0).sum())\n",
        "print(\"Any Ages > 120? \", (df_clean['Age'] > 120).sum())"
      ],
      "metadata": {
        "colab": {
          "base_uri": "https://localhost:8080/",
          "height": 0
        },
        "id": "2siuAwZo-tGx",
        "outputId": "6e609440-e1d3-449f-abed-55921d0ddc02"
      },
      "execution_count": 29,
      "outputs": [
        {
          "output_type": "stream",
          "name": "stdout",
          "text": [
            "\n",
            "Age column statistics AFTER cleaning:\n",
            "count    984.000000\n",
            "mean      53.754065\n",
            "std       14.941135\n",
            "min       25.000000\n",
            "25%       45.000000\n",
            "50%       55.000000\n",
            "75%       65.000000\n",
            "max       78.000000\n",
            "Name: Age, dtype: float64\n",
            "Any Ages < 0?  0\n",
            "Any Ages > 120?  0\n"
          ]
        }
      ]
    },
    {
      "cell_type": "code",
      "source": [
        "print(\"\\nRows before cleaning: \", df.shape[0])\n",
        "print(\"Rows after cleaning: \", df_clean.shape[0])\n",
        "# Save cleaned data if needed\n",
        "df_clean.to_csv('hospital_admissions_data_cleaned.csv', index=False)"
      ],
      "metadata": {
        "colab": {
          "base_uri": "https://localhost:8080/",
          "height": 0
        },
        "id": "WPgfuu5W-4h-",
        "outputId": "98bdf135-b407-4878-dffb-46bd21614b8f"
      },
      "execution_count": 30,
      "outputs": [
        {
          "output_type": "stream",
          "name": "stdout",
          "text": [
            "\n",
            "Rows before cleaning:  984\n",
            "Rows after cleaning:  984\n"
          ]
        }
      ]
    },
    {
      "cell_type": "code",
      "source": [
        "import pandas as pd\n",
        "from sklearn.preprocessing import MinMaxScaler, StandardScaler\n",
        "df = pd.read_csv(\"bank-additional-full.csv\", sep=\";\")\n",
        "print(\"Dataset Shape:\", df.shape)\n",
        "print(\"\\nNumeric columns available:\\n\", df.select_dtypes(include=['int64','float64']).columns.tolist())"
      ],
      "metadata": {
        "colab": {
          "base_uri": "https://localhost:8080/",
          "height": 0
        },
        "id": "_SfqgD0j--wI",
        "outputId": "fe1a0e96-ac12-4d89-e132-e81e4c6ca8dd"
      },
      "execution_count": 35,
      "outputs": [
        {
          "output_type": "stream",
          "name": "stdout",
          "text": [
            "Dataset Shape: (41188, 21)\n",
            "\n",
            "Numeric columns available:\n",
            " ['age', 'duration', 'campaign', 'pdays', 'previous', 'emp.var.rate', 'cons.price.idx', 'cons.conf.idx', 'euribor3m', 'nr.employed']\n"
          ]
        }
      ]
    },
    {
      "cell_type": "code",
      "source": [
        "df_selected = df[[\"age\"]].copy()\n",
        "print(\"\\nFirst 10 original values (age ~ proxy for income):\")\n",
        "print(df_selected.head(10))"
      ],
      "metadata": {
        "colab": {
          "base_uri": "https://localhost:8080/",
          "height": 0
        },
        "id": "0v-TNdVFEeeY",
        "outputId": "ff2f7e80-44fa-4a8a-c385-b58734223a71"
      },
      "execution_count": 39,
      "outputs": [
        {
          "output_type": "stream",
          "name": "stdout",
          "text": [
            "\n",
            "First 10 original values (age ~ proxy for income):\n",
            "   age\n",
            "0   56\n",
            "1   57\n",
            "2   37\n",
            "3   40\n",
            "4   56\n",
            "5   45\n",
            "6   59\n",
            "7   41\n",
            "8   24\n",
            "9   25\n"
          ]
        }
      ]
    },
    {
      "cell_type": "code",
      "source": [
        "min_max_scaler = MinMaxScaler()\n",
        "df_selected[\"age_MinMax\"] = min_max_scaler.fit_transform(df_selected[[\"age\"]])"
      ],
      "metadata": {
        "id": "d2a54gvkE1PY"
      },
      "execution_count": 40,
      "outputs": []
    },
    {
      "cell_type": "code",
      "source": [
        "standard_scaler = StandardScaler()\n",
        "df_selected[\"age_Zscore\"] = standard_scaler.fit_transform(df_selected[[\"age\"]])"
      ],
      "metadata": {
        "id": "I5YkG_TJE9mQ"
      },
      "execution_count": 42,
      "outputs": []
    },
    {
      "cell_type": "code",
      "source": [
        "print(\"\\nFirst 10 values after scaling:\")\n",
        "print(df_selected.head(10))"
      ],
      "metadata": {
        "colab": {
          "base_uri": "https://localhost:8080/",
          "height": 0
        },
        "id": "Q2l2TZeGFLc4",
        "outputId": "46da4b49-6913-4782-9607-e4a8d09fec2b"
      },
      "execution_count": 43,
      "outputs": [
        {
          "output_type": "stream",
          "name": "stdout",
          "text": [
            "\n",
            "First 10 values after scaling:\n",
            "   age  age_MinMax  age_Zscore\n",
            "0   56    0.481481    1.533034\n",
            "1   57    0.493827    1.628993\n",
            "2   37    0.246914   -0.290186\n",
            "3   40    0.283951   -0.002309\n",
            "4   56    0.481481    1.533034\n",
            "5   45    0.345679    0.477486\n",
            "6   59    0.518519    1.820911\n",
            "7   41    0.296296    0.093650\n",
            "8   24    0.086420   -1.537652\n",
            "9   25    0.098765   -1.441693\n"
          ]
        }
      ]
    },
    {
      "cell_type": "code",
      "source": [
        "df_selected.to_csv(\"bank_age_scaled.csv\", index=False)\n",
        "print(\"\\nScaled dataset saved as 'bank_age_scaled.csv'\")"
      ],
      "metadata": {
        "colab": {
          "base_uri": "https://localhost:8080/",
          "height": 0
        },
        "id": "8Wi3Oeu7FVzL",
        "outputId": "5582df6f-756b-429b-92cf-53f8b824d6ff"
      },
      "execution_count": 44,
      "outputs": [
        {
          "output_type": "stream",
          "name": "stdout",
          "text": [
            "\n",
            "Scaled dataset saved as 'bank_age_scaled.csv'\n"
          ]
        }
      ]
    }
  ]
}