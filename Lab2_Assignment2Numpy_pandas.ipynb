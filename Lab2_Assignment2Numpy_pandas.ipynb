{
  "nbformat": 4,
  "nbformat_minor": 0,
  "metadata": {
    "colab": {
      "provenance": [],
      "authorship_tag": "ABX9TyMuSGkhgL1AhZGaonaDmhJz",
      "include_colab_link": true
    },
    "kernelspec": {
      "name": "python3",
      "display_name": "Python 3"
    },
    "language_info": {
      "name": "python"
    }
  },
  "cells": [
    {
      "cell_type": "markdown",
      "metadata": {
        "id": "view-in-github",
        "colab_type": "text"
      },
      "source": [
        "<a href=\"https://colab.research.google.com/github/Sudhaganisrinidhi/B_20_1342/blob/main/Lab2_Numpy_pandas.ipynb\" target=\"_parent\"><img src=\"https://colab.research.google.com/assets/colab-badge.svg\" alt=\"Open In Colab\"/></a>"
      ]
    },
    {
      "cell_type": "code",
      "execution_count": 1,
      "metadata": {
        "colab": {
          "base_uri": "https://localhost:8080/"
        },
        "id": "TssndmJHLswT",
        "outputId": "0b1b557a-d2e9-40b9-ce4f-25ec269c9848"
      },
      "outputs": [
        {
          "output_type": "stream",
          "name": "stdout",
          "text": [
            "[[96 56 80]\n",
            " [67 89 78]\n",
            " [90 67 56]\n",
            " [89 90 78]\n",
            " [67 45 34]]\n"
          ]
        }
      ],
      "source": [
        "import numpy as np\n",
        "Marks=np.array([[96,56,80],[67,89,78],[90,67,56],[89,90,78],[67,45,34]])\n",
        "print(Marks)"
      ]
    },
    {
      "cell_type": "code",
      "source": [
        "avg_marks = Marks.mean(axis=1)\n",
        "min_marks = Marks.min(axis=1)\n",
        "max_marks = Marks.max(axis=1)\n",
        "print(\"\\nAverage marks per student:\", avg_marks)\n",
        "print(\"Minimum marks per student:\", min_marks)\n",
        "print(\"Maximum marks per student:\", max_marks)"
      ],
      "metadata": {
        "colab": {
          "base_uri": "https://localhost:8080/"
        },
        "id": "xf4IwNgiTG2U",
        "outputId": "f8526775-d723-45a6-c611-cc8446369ce9"
      },
      "execution_count": 2,
      "outputs": [
        {
          "output_type": "stream",
          "name": "stdout",
          "text": [
            "\n",
            "Average marks per student: [77.33333333 78.         71.         85.66666667 48.66666667]\n",
            "Minimum marks per student: [56 67 56 78 34]\n",
            "Maximum marks per student: [96 89 90 90 67]\n"
          ]
        }
      ]
    },
    {
      "cell_type": "code",
      "source": [
        "print(\"\\nMarks of Students 2 to 4:\\n\", Marks[1:4])"
      ],
      "metadata": {
        "colab": {
          "base_uri": "https://localhost:8080/"
        },
        "id": "Bton1jBWTOog",
        "outputId": "dc516a27-8638-42cc-dc7b-d0c1694497e4"
      },
      "execution_count": 3,
      "outputs": [
        {
          "output_type": "stream",
          "name": "stdout",
          "text": [
            "\n",
            "Marks of Students 2 to 4:\n",
            " [[67 89 78]\n",
            " [90 67 56]\n",
            " [89 90 78]]\n"
          ]
        }
      ]
    },
    {
      "cell_type": "code",
      "source": [
        "above_80 = Marks[(Marks > 80).all(axis=1)]\n",
        "print(\"\\nStudents scoring above 80 in all subjects:\\n\", above_80)"
      ],
      "metadata": {
        "colab": {
          "base_uri": "https://localhost:8080/"
        },
        "id": "EMfWprZMTSAN",
        "outputId": "59d4149a-485e-4c8e-bebc-20c8fff2ee2e"
      },
      "execution_count": 4,
      "outputs": [
        {
          "output_type": "stream",
          "name": "stdout",
          "text": [
            "\n",
            "Students scoring above 80 in all subjects:\n",
            " []\n"
          ]
        }
      ]
    },
    {
      "cell_type": "code",
      "source": [
        "reshaped = Marks.T\n",
        "print(\"\\nSubject-wise performance:\\n\", reshaped)"
      ],
      "metadata": {
        "colab": {
          "base_uri": "https://localhost:8080/"
        },
        "id": "T3ZxhsIuTZ0Y",
        "outputId": "3bf8a2b8-f0ba-489c-aab1-06dce0c82ee6"
      },
      "execution_count": 5,
      "outputs": [
        {
          "output_type": "stream",
          "name": "stdout",
          "text": [
            "\n",
            "Subject-wise performance:\n",
            " [[96 67 90 89 67]\n",
            " [56 89 67 90 45]\n",
            " [80 78 56 78 34]]\n"
          ]
        }
      ]
    },
    {
      "cell_type": "code",
      "source": [
        "import pandas as pd\n",
        "\n",
        "# 1. Create a DataFrame\n",
        "data = {\n",
        "    'Name': ['Alice', 'Bob', 'Charlie', 'David', 'Eva'],\n",
        "    'ID': [101, 102, 103, 104, 105],\n",
        "    'Department': ['HR', 'IT', 'Finance', 'IT', 'Marketing'],\n",
        "    'Salary': [48000, 55000, 72000, 50000, 65000]\n",
        "}\n",
        "\n",
        "df = pd.DataFrame(data)\n",
        "print(\"Original DataFrame:\\n\", df)"
      ],
      "metadata": {
        "colab": {
          "base_uri": "https://localhost:8080/"
        },
        "id": "NhVylKPxUxwy",
        "outputId": "2e28d87b-a9c5-4098-82e2-0319ddf75396"
      },
      "execution_count": 6,
      "outputs": [
        {
          "output_type": "stream",
          "name": "stdout",
          "text": [
            "Original DataFrame:\n",
            "       Name   ID Department  Salary\n",
            "0    Alice  101         HR   48000\n",
            "1      Bob  102         IT   55000\n",
            "2  Charlie  103    Finance   72000\n",
            "3    David  104         IT   50000\n",
            "4      Eva  105  Marketing   65000\n"
          ]
        }
      ]
    },
    {
      "cell_type": "code",
      "source": [
        "high_salary = df[df['Salary'] > 50000]\n",
        "print(\"\\nEmployees with Salary > 50,000:\\n\", high_salary)"
      ],
      "metadata": {
        "colab": {
          "base_uri": "https://localhost:8080/"
        },
        "id": "sbpZPZhXUzSf",
        "outputId": "a1d57f95-340a-4fb4-acf9-39e3744e262a"
      },
      "execution_count": 7,
      "outputs": [
        {
          "output_type": "stream",
          "name": "stdout",
          "text": [
            "\n",
            "Employees with Salary > 50,000:\n",
            "       Name   ID Department  Salary\n",
            "1      Bob  102         IT   55000\n",
            "2  Charlie  103    Finance   72000\n",
            "4      Eva  105  Marketing   65000\n"
          ]
        }
      ]
    },
    {
      "cell_type": "code",
      "source": [
        "sorted_df = df.sort_values(by='Salary', ascending=False)\n",
        "print(\"\\nSorted by Salary (Descending):\\n\", sorted_df)"
      ],
      "metadata": {
        "colab": {
          "base_uri": "https://localhost:8080/"
        },
        "id": "glaLzx4XU2zS",
        "outputId": "b9866e25-462f-4173-9ed3-8fcb1fb0b2d0"
      },
      "execution_count": 8,
      "outputs": [
        {
          "output_type": "stream",
          "name": "stdout",
          "text": [
            "\n",
            "Sorted by Salary (Descending):\n",
            "       Name   ID Department  Salary\n",
            "2  Charlie  103    Finance   72000\n",
            "4      Eva  105  Marketing   65000\n",
            "1      Bob  102         IT   55000\n",
            "3    David  104         IT   50000\n",
            "0    Alice  101         HR   48000\n"
          ]
        }
      ]
    },
    {
      "cell_type": "code",
      "source": [
        "df['Bonus'] = df['Salary'] * 0.10\n",
        "print(\"\\nDataFrame with Bonus:\\n\", df)"
      ],
      "metadata": {
        "colab": {
          "base_uri": "https://localhost:8080/"
        },
        "id": "rbUBuOEkU6k6",
        "outputId": "68e722a5-39ed-45a6-f91b-b52b5408ff35"
      },
      "execution_count": 9,
      "outputs": [
        {
          "output_type": "stream",
          "name": "stdout",
          "text": [
            "\n",
            "DataFrame with Bonus:\n",
            "       Name   ID Department  Salary   Bonus\n",
            "0    Alice  101         HR   48000  4800.0\n",
            "1      Bob  102         IT   55000  5500.0\n",
            "2  Charlie  103    Finance   72000  7200.0\n",
            "3    David  104         IT   50000  5000.0\n",
            "4      Eva  105  Marketing   65000  6500.0\n"
          ]
        }
      ]
    },
    {
      "cell_type": "code",
      "source": [
        "total_expense = (df['Salary'] + df['Bonus']).sum()\n",
        "print(\"\\nTotal Salary Expense (including bonuses):\", total_expense)"
      ],
      "metadata": {
        "colab": {
          "base_uri": "https://localhost:8080/"
        },
        "id": "LSg-UhcwU-9L",
        "outputId": "5fe17592-2c36-4ac4-9c79-5650cfc70406"
      },
      "execution_count": 10,
      "outputs": [
        {
          "output_type": "stream",
          "name": "stdout",
          "text": [
            "\n",
            "Total Salary Expense (including bonuses): 319000.0\n"
          ]
        }
      ]
    },
    {
      "cell_type": "code",
      "source": [
        "df.to_csv(\"employee_data.csv\", index=False)\n",
        "print(\"\\nData saved to employee_data.csv\")"
      ],
      "metadata": {
        "colab": {
          "base_uri": "https://localhost:8080/"
        },
        "id": "SBkxIvmZVC9q",
        "outputId": "f9ed3bcd-7274-4e3a-c9ed-f54d23805fb9"
      },
      "execution_count": 11,
      "outputs": [
        {
          "output_type": "stream",
          "name": "stdout",
          "text": [
            "\n",
            "Data saved to employee_data.csv\n"
          ]
        }
      ]
    }
  ]
}
