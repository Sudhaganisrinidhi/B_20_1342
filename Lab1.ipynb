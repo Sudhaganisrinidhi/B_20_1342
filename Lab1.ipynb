{
  "nbformat": 4,
  "nbformat_minor": 0,
  "metadata": {
    "colab": {
      "provenance": [],
      "authorship_tag": "ABX9TyOC8rNjMfMuyPRy3cMKpL7d",
      "include_colab_link": true
    },
    "kernelspec": {
      "name": "python3",
      "display_name": "Python 3"
    },
    "language_info": {
      "name": "python"
    }
  },
  "cells": [
    {
      "cell_type": "markdown",
      "metadata": {
        "id": "view-in-github",
        "colab_type": "text"
      },
      "source": [
        "<a href=\"https://colab.research.google.com/github/Sudhaganisrinidhi/B_20_1342/blob/main/Lab1.ipynb\" target=\"_parent\"><img src=\"https://colab.research.google.com/assets/colab-badge.svg\" alt=\"Open In Colab\"/></a>"
      ]
    },
    {
      "cell_type": "code",
      "execution_count": 4,
      "metadata": {
        "colab": {
          "base_uri": "https://localhost:8080/"
        },
        "id": "Tyyfapz6FD3x",
        "outputId": "541bafca-69b0-4055-f723-1448424db452"
      },
      "outputs": [
        {
          "output_type": "stream",
          "name": "stdout",
          "text": [
            "enter a number:5\n",
            "120\n"
          ]
        }
      ],
      "source": [
        "def fact(x):\n",
        "  fact=1\n",
        "  for i in range(1,x+1):\n",
        "    fact=fact*i\n",
        "  return fact\n",
        "n=int(input(\"enter a number:\"))\n",
        "print(fact(n))"
      ]
    }
  ]
}