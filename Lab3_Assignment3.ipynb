{
  "nbformat": 4,
  "nbformat_minor": 0,
  "metadata": {
    "colab": {
      "provenance": [],
      "authorship_tag": "ABX9TyMzh3dNlIaPPTT44VPT/WJe",
      "include_colab_link": true
    },
    "kernelspec": {
      "name": "python3",
      "display_name": "Python 3"
    },
    "language_info": {
      "name": "python"
    }
  },
  "cells": [
    {
      "cell_type": "markdown",
      "metadata": {
        "id": "view-in-github",
        "colab_type": "text"
      },
      "source": [
        "<a href=\"https://colab.research.google.com/github/Sudhaganisrinidhi/B_20_1342/blob/main/Lab3_Assignment3.ipynb\" target=\"_parent\"><img src=\"https://colab.research.google.com/assets/colab-badge.svg\" alt=\"Open In Colab\"/></a>"
      ]
    },
    {
      "cell_type": "code",
      "execution_count": 1,
      "metadata": {
        "colab": {
          "base_uri": "https://localhost:8080/"
        },
        "id": "OJ0A27GOas4w",
        "outputId": "3619c8c3-814c-4047-8fd7-06a01cbba357"
      },
      "outputs": [
        {
          "output_type": "stream",
          "name": "stdout",
          "text": [
            "Test Scores (4x4):\n",
            " [[74 85 78 72]\n",
            " [89 87 75 73]\n",
            " [98 65 51 96]\n",
            " [69 78 91 81]] \n",
            "\n",
            "Row-wise Means: [77.25 81.   77.5  79.75]\n",
            "Column-wise Means: [82.5  78.75 73.75 80.5 ] \n",
            "\n",
            "Standard Deviation (overall): 11.741353201398892\n",
            "Variance (overall): 137.859375 \n",
            "\n",
            "Global Max: 98 at index (np.int64(2), np.int64(0))\n",
            "Global Min: 51 at index (np.int64(2), np.int64(2)) \n",
            "\n",
            "Median (overall): 78.0\n"
          ]
        }
      ],
      "source": [
        "import numpy as np\n",
        "\n",
        "# Generate a 4x4 array of test scores (example: random integers 50–100)\n",
        "scores = np.random.randint(50, 101, size=(4, 4))\n",
        "print(\"Test Scores (4x4):\\n\", scores, \"\\n\")\n",
        "\n",
        "# Row-wise and column-wise means\n",
        "row_means = np.mean(scores, axis=1)\n",
        "col_means = np.mean(scores, axis=0)\n",
        "\n",
        "print(\"Row-wise Means:\", row_means)\n",
        "print(\"Column-wise Means:\", col_means, \"\\n\")\n",
        "\n",
        "# Standard deviation and variance\n",
        "std_dev = np.std(scores)\n",
        "variance = np.var(scores)\n",
        "print(\"Standard Deviation (overall):\", std_dev)\n",
        "print(\"Variance (overall):\", variance, \"\\n\")\n",
        "\n",
        "# Global min and max with indices\n",
        "global_max = np.max(scores)\n",
        "global_min = np.min(scores)\n",
        "max_index = np.unravel_index(np.argmax(scores), scores.shape)\n",
        "min_index = np.unravel_index(np.argmin(scores), scores.shape)\n",
        "\n",
        "print(\"Global Max:\", global_max, \"at index\", max_index)\n",
        "print(\"Global Min:\", global_min, \"at index\", min_index, \"\\n\")\n",
        "\n",
        "# Median\n",
        "median = np.median(scores)\n",
        "print(\"Median (overall):\", median)"
      ]
    },
    {
      "cell_type": "code",
      "source": [
        "import numpy as np\n",
        "\n",
        "# Create a 3x3x3 RGB image (values 0–255)\n",
        "image = np.random.randint(0, 256, (3, 3, 3), dtype=np.uint8)\n",
        "print(\"Original RGB Image Array:\\n\", image, \"\\n\")\n",
        "\n",
        "# Extract color channels using slicing\n",
        "red_channel   = image[:, :, 0]\n",
        "green_channel = image[:, :, 1]\n",
        "blue_channel  = image[:, :, 2]\n",
        "\n",
        "print(\"Red Channel:\\n\", red_channel, \"\\n\")\n",
        "print(\"Green Channel:\\n\", green_channel, \"\\n\")\n",
        "print(\"Blue Channel:\\n\", blue_channel, \"\\n\")\n",
        "\n",
        "# Average intensity per channel\n",
        "avg_red   = np.mean(red_channel)\n",
        "avg_green = np.mean(green_channel)\n",
        "avg_blue  = np.mean(blue_channel)\n",
        "\n",
        "print(\"Average Intensities - R:\", avg_red,\n",
        "      \"G:\", avg_green,\n",
        "      \"B:\", avg_blue, \"\\n\")\n",
        "\n",
        "# Brighten image by adding scalar (clip to 255)\n",
        "bright_image = np.clip(image + 50, 0, 255)\n",
        "print(\"Brightened Image Array:\\n\", bright_image, \"\\n\")"
      ],
      "metadata": {
        "colab": {
          "base_uri": "https://localhost:8080/"
        },
        "id": "I3C26PZga1ZG",
        "outputId": "385dbcd8-ef8b-47f9-8fe7-c602a78e2917"
      },
      "execution_count": 2,
      "outputs": [
        {
          "output_type": "stream",
          "name": "stdout",
          "text": [
            "Original RGB Image Array:\n",
            " [[[251 137  43]\n",
            "  [105 219  30]\n",
            "  [ 34  33 169]]\n",
            "\n",
            " [[198 125 176]\n",
            "  [129 240 113]\n",
            "  [241  20 174]]\n",
            "\n",
            " [[ 52 144  92]\n",
            "  [131 119 120]\n",
            "  [ 24 169 107]]] \n",
            "\n",
            "Red Channel:\n",
            " [[251 105  34]\n",
            " [198 129 241]\n",
            " [ 52 131  24]] \n",
            "\n",
            "Green Channel:\n",
            " [[137 219  33]\n",
            " [125 240  20]\n",
            " [144 119 169]] \n",
            "\n",
            "Blue Channel:\n",
            " [[ 43  30 169]\n",
            " [176 113 174]\n",
            " [ 92 120 107]] \n",
            "\n",
            "Average Intensities - R: 129.44444444444446 G: 134.0 B: 113.77777777777777 \n",
            "\n",
            "Brightened Image Array:\n",
            " [[[ 45 187  93]\n",
            "  [155  13  80]\n",
            "  [ 84  83 219]]\n",
            "\n",
            " [[248 175 226]\n",
            "  [179  34 163]\n",
            "  [ 35  70 224]]\n",
            "\n",
            " [[102 194 142]\n",
            "  [181 169 170]\n",
            "  [ 74 219 157]]] \n",
            "\n"
          ]
        }
      ]
    }
  ]
}