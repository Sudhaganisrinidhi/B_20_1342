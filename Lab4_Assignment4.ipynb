{
  "nbformat": 4,
  "nbformat_minor": 0,
  "metadata": {
    "colab": {
      "provenance": [],
      "authorship_tag": "ABX9TyNvZrSSe3YF+b/iBSU7bDCe",
      "include_colab_link": true
    },
    "kernelspec": {
      "name": "python3",
      "display_name": "Python 3"
    },
    "language_info": {
      "name": "python"
    }
  },
  "cells": [
    {
      "cell_type": "markdown",
      "metadata": {
        "id": "view-in-github",
        "colab_type": "text"
      },
      "source": [
        "<a href=\"https://colab.research.google.com/github/Sudhaganisrinidhi/B_20_1342/blob/main/Lab4_Assignment4.ipynb\" target=\"_parent\"><img src=\"https://colab.research.google.com/assets/colab-badge.svg\" alt=\"Open In Colab\"/></a>"
      ]
    },
    {
      "cell_type": "code",
      "source": [
        "import pandas as pd\n",
        "data = {\n",
        "    \"User_ID\": [f\"U{100+i}\" for i in range(1, 16)],\n",
        "    \"Course_Name\": [\n",
        "        \"Python for Data Science\", \"Python for Data Science\", \"Machine Learning\",\n",
        "        \"Python for Data Science\", \"Deep Learning\", \"Python for Data Science\",\n",
        "        \"Python for Data Science\", \"Python for Data Science\", \"Machine Learning\",\n",
        "        \"Python for Data Science\", \"Deep Learning\", \"Python for Data Science\",\n",
        "        \"Python for Data Science\", \"Python for Data Science\", \"Python for Data Science\"\n",
        "    ],\n",
        "    \"Rating\": [5, 4, None, 3, 5, 2, 5, 4, 3, 5, 4, None, 5, 3, 4],\n",
        "    \"Feedback\": [\n",
        "        \"Great course, very useful!\",\n",
        "        \"Well structured and clear explanations.\",\n",
        "        \"Too fast-paced.\",\n",
        "        \"Needs more practical examples.\",\n",
        "        \"Excellent coverage of concepts.\",\n",
        "        \"The pace was too slow.\",\n",
        "        \"Loved the assignments, very practical!\",\n",
        "        \"Good mix of theory and coding.\",\n",
        "        \"Content could be deeper.\",\n",
        "        \"Amazing teaching style!\",\n",
        "        \"Very informative and clear.\",\n",
        "        \"Slides need improvement.\",\n",
        "        \"Best online course I've taken.\",\n",
        "        \"Could add more real-world projects.\",\n",
        "        \"Instructor explained concepts well.\"\n",
        "    ],\n",
        "    \"Date\": [\n",
        "        \"2025-08-01\", \"2025-08-02\", \"2025-08-03\", \"2025-08-04\", \"2025-08-05\",\n",
        "        \"2025-08-06\", \"2025-08-07\", \"2025-08-08\", \"2025-08-09\", \"2025-08-10\",\n",
        "        \"2025-08-11\", \"2025-08-12\", \"2025-08-13\", \"2025-08-14\", \"2025-08-15\"\n",
        "    ]\n",
        " }\n",
        "df = pd.DataFrame(data)\n",
        "df = df.dropna(subset=[\"Rating\"])\n",
        "filtered = df[(df[\"Course_Name\"] == \"Python for Data Science\") & (df[\"Rating\"] >= 4)]\n",
        "print(\"Filtered Feedbacks:\\n\")\n",
        "for idx, row in filtered.iterrows():\n",
        "    print(f\"User: {row['User_ID']} → Feedback: {row['Feedback']}\")"
      ],
      "metadata": {
        "colab": {
          "base_uri": "https://localhost:8080/"
        },
        "id": "pvDohHFeZpRK",
        "outputId": "b9e1bdc2-b4b3-4933-aa3c-5c964138258f"
      },
      "execution_count": 12,
      "outputs": [
        {
          "output_type": "stream",
          "name": "stdout",
          "text": [
            "Filtered Feedbacks:\n",
            "\n",
            "User: U101 → Feedback: Great course, very useful!\n",
            "User: U102 → Feedback: Well structured and clear explanations.\n",
            "User: U107 → Feedback: Loved the assignments, very practical!\n",
            "User: U108 → Feedback: Good mix of theory and coding.\n",
            "User: U110 → Feedback: Amazing teaching style!\n",
            "User: U113 → Feedback: Best online course I've taken.\n",
            "User: U115 → Feedback: Instructor explained concepts well.\n"
          ]
        }
      ]
    },
    {
      "cell_type": "code",
      "source": [
        "import pandas as pd\n",
        "data = {\n",
        "   \"Location\": [\n",
        "       \"Delhi\", \"Mumbai\", \"Chennai\", \"Kolkata\", \"Bengaluru\",\n",
        "       \"Hyderabad\", \"Pune\", \"Ahmedabad\", \"Lucknow\", \"Jaipur\",\n",
        "       \"Patna\", \"Chandigarh\", \"Nagpur\", \"Indore\", \"Surat\"\n",
        "   ],\n",
        "   \"PM2.5\": [180, 90, None, 160, 200, 145, 170, None, 190, 85, 210, 155, None, 175, 95],\n",
        "   \"PM10\": [250, 120, 180, None, 300, 200, 280, 310, 150, 90, 330, 270, 220, 260, 110],\n",
        "   \"NO2\": [85, 40, 60, None, 95, 75, 82, 88, None, 55, 100, 81, 65, None, 72],\n",
        "   \"SO2\": [15, 10, None, 20, 25, 18, 12, 19, 22, None, 30, 16, 14, 21, 11],\n",
        "   \"Date\": [\n",
        "       \"2025-08-01\", \"2025-08-02\", \"2025-08-03\", \"2025-08-04\", \"2025-08-05\",\n",
        "       \"2025-08-06\", \"2025-08-07\", \"2025-08-08\", \"2025-08-09\", \"2025-08-10\",\n",
        "       \"2025-08-11\", \"2025-08-12\", \"2025-08-13\", \"2025-08-14\", \"2025-08-15\"\n",
        "   ]\n",
        "}\n",
        "df = pd.DataFrame(data)\n",
        "df.to_csv(\"air_quality.csv\", index=False)\n",
        "print(\"Extended dummy air_quality.csv created ✅ \\n\")\n",
        "df = pd.read_csv(\"air_quality.csv\")\n",
        "df = df.ffill()\n",
        "polluted_days = df[(df[\"PM2.5\"] > 150) & (df[\"NO2\"] > 80)]\n",
        "print(\"Polluted Day Records:\\n\")\n",
        "print(polluted_days[[\"Location\", \"PM2.5\", \"NO2\", \"Date\"]])\n",
        "polluted_days.to_csv(\"polluted_days.csv\", index=False)\n",
        "print(\"\\nFiltered polluted days saved to 'polluted_days.csv' ✅ \")"
      ],
      "metadata": {
        "colab": {
          "base_uri": "https://localhost:8080/"
        },
        "id": "IFj9tghqZz7R",
        "outputId": "5ebdc5ed-9451-4da5-83a4-a420e312697c"
      },
      "execution_count": 14,
      "outputs": [
        {
          "output_type": "stream",
          "name": "stdout",
          "text": [
            "Extended dummy air_quality.csv created ✅ \n",
            "\n",
            "Polluted Day Records:\n",
            "\n",
            "      Location  PM2.5    NO2        Date\n",
            "0        Delhi  180.0   85.0  2025-08-01\n",
            "4    Bengaluru  200.0   95.0  2025-08-05\n",
            "6         Pune  170.0   82.0  2025-08-07\n",
            "7    Ahmedabad  170.0   88.0  2025-08-08\n",
            "8      Lucknow  190.0   88.0  2025-08-09\n",
            "10       Patna  210.0  100.0  2025-08-11\n",
            "11  Chandigarh  155.0   81.0  2025-08-12\n",
            "\n",
            "Filtered polluted days saved to 'polluted_days.csv' ✅ \n"
          ]
        }
      ]
    }
  ]
}