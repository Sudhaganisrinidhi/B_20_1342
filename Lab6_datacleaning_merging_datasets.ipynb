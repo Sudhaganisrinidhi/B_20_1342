{
  "nbformat": 4,
  "nbformat_minor": 0,
  "metadata": {
    "colab": {
      "provenance": [],
      "authorship_tag": "ABX9TyMRoE5A+BexhtVRkvLb8K6Q",
      "include_colab_link": true
    },
    "kernelspec": {
      "name": "python3",
      "display_name": "Python 3"
    },
    "language_info": {
      "name": "python"
    }
  },
  "cells": [
    {
      "cell_type": "markdown",
      "metadata": {
        "id": "view-in-github",
        "colab_type": "text"
      },
      "source": [
        "<a href=\"https://colab.research.google.com/github/Sudhaganisrinidhi/B_20_1342/blob/main/Lab6_datacleaning_merging_datasets.ipynb\" target=\"_parent\"><img src=\"https://colab.research.google.com/assets/colab-badge.svg\" alt=\"Open In Colab\"/></a>"
      ]
    },
    {
      "cell_type": "code",
      "execution_count": 4,
      "metadata": {
        "colab": {
          "base_uri": "https://localhost:8080/"
        },
        "id": "MV_qY7hEFB-Z",
        "outputId": "584a8d7f-7727-4001-aef4-574018cb333c"
      },
      "outputs": [
        {
          "output_type": "stream",
          "name": "stdout",
          "text": [
            "    Name   Age  Marks\n",
            "0   Ravi  25.0   85.0\n",
            "1   Neha   NaN   90.0\n",
            "2  Kiran  30.0    NaN\n",
            "3   Sita  28.0   92.0\n",
            "    Name    Age  Marks\n",
            "0  False  False  False\n",
            "1  False   True  False\n",
            "2  False  False   True\n",
            "3  False  False  False\n"
          ]
        }
      ],
      "source": [
        "#data cleaning\n",
        "import pandas as pd\n",
        "import numpy as np\n",
        "dat={\n",
        "    'Name':['Ravi','Neha','Kiran','Sita'],\n",
        "    'Age':[25,np.nan,30,28],\n",
        "    'Marks':[85,90,np.nan,92]\n",
        "}\n",
        "df=pd.DataFrame(dat)\n",
        "print(df)\n",
        "print(df.isnull())"
      ]
    },
    {
      "cell_type": "code",
      "source": [
        "df_dropped=df.dropna()\n",
        "print(df_dropped)"
      ],
      "metadata": {
        "colab": {
          "base_uri": "https://localhost:8080/"
        },
        "id": "3Gq3C-7THDqk",
        "outputId": "271a96d1-8c24-4bb0-d29a-84ddf57577c8"
      },
      "execution_count": 5,
      "outputs": [
        {
          "output_type": "stream",
          "name": "stdout",
          "text": [
            "   Name   Age  Marks\n",
            "0  Ravi  25.0   85.0\n",
            "3  Sita  28.0   92.0\n"
          ]
        }
      ]
    },
    {
      "cell_type": "code",
      "source": [
        "df_filled=df.fillna(0)\n",
        "print(\"filled with:\")\n",
        "print(df_filled)"
      ],
      "metadata": {
        "colab": {
          "base_uri": "https://localhost:8080/"
        },
        "id": "viBVg7XaHMXf",
        "outputId": "d98b17a3-b6aa-46bc-a173-8e9e82f72710"
      },
      "execution_count": 6,
      "outputs": [
        {
          "output_type": "stream",
          "name": "stdout",
          "text": [
            "filled with:\n",
            "    Name   Age  Marks\n",
            "0   Ravi  25.0   85.0\n",
            "1   Neha   0.0   90.0\n",
            "2  Kiran  30.0    0.0\n",
            "3   Sita  28.0   92.0\n"
          ]
        }
      ]
    },
    {
      "cell_type": "code",
      "source": [
        "df['Age']=\n",
        "df['Age'].fillna(df['Age'].mean())\n",
        "df['Marks']=df['Marks'].fillna(df['Marks'].mean())\n",
        "print(\"filled with mean:\")\n",
        "print(df)"
      ],
      "metadata": {
        "colab": {
          "base_uri": "https://localhost:8080/"
        },
        "id": "_C6MVqOiH0la",
        "outputId": "37e5b801-bdf2-401a-f7c4-ab52dc904b63"
      },
      "execution_count": 10,
      "outputs": [
        {
          "output_type": "stream",
          "name": "stdout",
          "text": [
            "filled with mean:\n",
            "    Name        Age  Marks\n",
            "0   Ravi  25.000000   85.0\n",
            "1   Neha  27.666667   90.0\n",
            "2  Kiran  30.000000   89.0\n",
            "3   Sita  28.000000   92.0\n"
          ]
        }
      ]
    },
    {
      "cell_type": "code",
      "source": [
        "data={\n",
        "    'ID':[1,2,2,3,4,4],\n",
        "    'Name':['Ravi','Neha','Neha','Kiran','Sita','Sita'],\n",
        "    'Marks':[85,90,90,78,92,92]\n",
        "}\n",
        "df=pd.DataFrame(data)\n",
        "print(\"Original Data Frame with Duplicates\")\n",
        "print(df)\n",
        "df_no_duplicates=df.drop_duplicates()\n",
        "print(\"Data Frame without Duplicates\")\n",
        "print(df_no_duplicates)"
      ],
      "metadata": {
        "colab": {
          "base_uri": "https://localhost:8080/"
        },
        "id": "dYus6JR3IkCl",
        "outputId": "ab56719f-f94e-4088-8207-36f4d74b196b"
      },
      "execution_count": 14,
      "outputs": [
        {
          "output_type": "stream",
          "name": "stdout",
          "text": [
            "Original Data Frame with Duplicates\n",
            "   ID   Name  Marks\n",
            "0   1   Ravi     85\n",
            "1   2   Neha     90\n",
            "2   2   Neha     90\n",
            "3   3  Kiran     78\n",
            "4   4   Sita     92\n",
            "5   4   Sita     92\n",
            "Data Frame without Duplicates\n",
            "   ID   Name  Marks\n",
            "0   1   Ravi     85\n",
            "1   2   Neha     90\n",
            "3   3  Kiran     78\n",
            "4   4   Sita     92\n"
          ]
        }
      ]
    },
    {
      "cell_type": "code",
      "source": [
        "data={\n",
        "    'ID':[1,2,3,4,5],\n",
        "    'Marks':['85','90','78','92','95'],\n",
        "}\n",
        "df=pd.DataFrame(data)\n",
        "print(\"Original Dta Types:\")\n",
        "print(df.dtypes)\n",
        "df['ID']=pd.to_numeric(df['ID'])\n",
        "df['Marks']=pd.to_numeric(df['Marks'])\n",
        "print(\"Data Types After Conversion:\")\n",
        "print(df.dtypes)"
      ],
      "metadata": {
        "colab": {
          "base_uri": "https://localhost:8080/"
        },
        "id": "AA-D44y5JstW",
        "outputId": "cd0befd7-5e83-4147-ee79-ecec15ffa98e"
      },
      "execution_count": 18,
      "outputs": [
        {
          "output_type": "stream",
          "name": "stdout",
          "text": [
            "Original Dta Types:\n",
            "ID        int64\n",
            "Marks    object\n",
            "dtype: object\n",
            "Data Types After Conversion:\n",
            "ID       int64\n",
            "Marks    int64\n",
            "dtype: object\n"
          ]
        }
      ]
    },
    {
      "cell_type": "code",
      "source": [
        "df['Marks'] = df['Marks'].apply(lambda x: x + 5)\n",
        "print(\"After Adding Bonus Marks:\")\n",
        "print(df)\n"
      ],
      "metadata": {
        "colab": {
          "base_uri": "https://localhost:8080/"
        },
        "id": "4kpjtmeWK8gf",
        "outputId": "49e0a2c7-537d-4119-adee-55871a61dd0d"
      },
      "execution_count": 19,
      "outputs": [
        {
          "output_type": "stream",
          "name": "stdout",
          "text": [
            "After Adding Bonus Marks:\n",
            "   ID  Marks\n",
            "0   1     90\n",
            "1   2     95\n",
            "2   3     83\n",
            "3   4     97\n",
            "4   5    100\n"
          ]
        }
      ]
    },
    {
      "cell_type": "code",
      "source": [
        "df['Marks_Normalized'] = (df['Marks'] - df['Marks'].min()) / (df['Marks'].max() - df['Marks'].min())\n",
        "print(\"Normalized Marks:\")\n",
        "print(df)\n"
      ],
      "metadata": {
        "colab": {
          "base_uri": "https://localhost:8080/"
        },
        "id": "T3kLgRObUVKp",
        "outputId": "fcb2b7e7-0077-4f7f-def5-85fc9f309191"
      },
      "execution_count": 20,
      "outputs": [
        {
          "output_type": "stream",
          "name": "stdout",
          "text": [
            "Normalized Marks:\n",
            "   ID  Marks  Marks_Normalized\n",
            "0   1     90          0.411765\n",
            "1   2     95          0.705882\n",
            "2   3     83          0.000000\n",
            "3   4     97          0.823529\n",
            "4   5    100          1.000000\n"
          ]
        }
      ]
    },
    {
      "cell_type": "code",
      "source": [
        "student_data = {\n",
        "'Student_ID': [101, 102, 102, 103, 104, 105],\n",
        "'Name': ['Ravi', 'Neha', 'Neha', 'Kiran', 'Sita', None],\n",
        "'Marks': [85, 90, 90, np.nan, 92, 88],\n",
        "'Department': ['CSE', 'ECE', 'ECE', 'MECH', 'CSE', 'CSE']\n",
        "}\n",
        "df = pd.DataFrame(student_data)\n",
        "print(\"Original Data:\")\n",
        "print(df)\n",
        "# 1. Handle Missing Values\n",
        "df['Marks'] = df['Marks'].fillna(df['Marks'].mean())\n",
        "df['Name'] = df['Name'].fillna(\"Unknown\")\n",
        "# 2. Remove Duplicates\n",
        "df = df.drop_duplicates()\n",
        "# 3. Transformation - Add Result Column\n",
        "df['Result'] = ['Pass' if x >= 40 else 'Fail' for x in df['Marks']]\n",
        "print(\"\\nCleaned Student Data:\")\n",
        "print(df)\n"
      ],
      "metadata": {
        "colab": {
          "base_uri": "https://localhost:8080/"
        },
        "id": "Op0N4A8BUZAs",
        "outputId": "665ac66f-ebe3-4c06-b6ac-4cc6502c6f62"
      },
      "execution_count": 21,
      "outputs": [
        {
          "output_type": "stream",
          "name": "stdout",
          "text": [
            "Original Data:\n",
            "   Student_ID   Name  Marks Department\n",
            "0         101   Ravi   85.0        CSE\n",
            "1         102   Neha   90.0        ECE\n",
            "2         102   Neha   90.0        ECE\n",
            "3         103  Kiran    NaN       MECH\n",
            "4         104   Sita   92.0        CSE\n",
            "5         105   None   88.0        CSE\n",
            "\n",
            "Cleaned Student Data:\n",
            "   Student_ID     Name  Marks Department Result\n",
            "0         101     Ravi   85.0        CSE   Pass\n",
            "1         102     Neha   90.0        ECE   Pass\n",
            "3         103    Kiran   89.0       MECH   Pass\n",
            "4         104     Sita   92.0        CSE   Pass\n",
            "5         105  Unknown   88.0        CSE   Pass\n"
          ]
        }
      ]
    },
    {
      "cell_type": "markdown",
      "source": [
        "**Merging and joining** **datasets**"
      ],
      "metadata": {
        "id": "BHw_KqFxX_W1"
      }
    },
    {
      "cell_type": "code",
      "source": [
        "students = pd.DataFrame({\n",
        "'Student_ID': [101, 102, 103, 104],\n",
        "'Name': ['Ravi', 'Neha', 'Kiran', 'Sita']\n",
        "})\n",
        "marks = pd.DataFrame({\n",
        "'Student_ID': [101, 102, 103, 105],\n",
        "'Marks': [85, 90, 78, 88]\n",
        "})\n",
        "merged_df = pd.merge(students, marks, on='Student_ID')\n",
        "print(\"Merged DataFrame:\")\n",
        "print(merged_df)"
      ],
      "metadata": {
        "colab": {
          "base_uri": "https://localhost:8080/"
        },
        "id": "tEl-2kBRX9yl",
        "outputId": "c65b529d-a23b-4f28-e516-cb93f5e5c744"
      },
      "execution_count": 22,
      "outputs": [
        {
          "output_type": "stream",
          "name": "stdout",
          "text": [
            "Merged DataFrame:\n",
            "   Student_ID   Name  Marks\n",
            "0         101   Ravi     85\n",
            "1         102   Neha     90\n",
            "2         103  Kiran     78\n"
          ]
        }
      ]
    },
    {
      "cell_type": "code",
      "source": [
        "inner = pd.merge(students, marks, on='Student_ID', how='inner')\n",
        "print(\"Inner Join:\\n\", inner)"
      ],
      "metadata": {
        "colab": {
          "base_uri": "https://localhost:8080/"
        },
        "id": "40MQ2kjzYQb9",
        "outputId": "a22f61cf-97d1-41ee-b65f-5237c3b9871c"
      },
      "execution_count": 23,
      "outputs": [
        {
          "output_type": "stream",
          "name": "stdout",
          "text": [
            "Inner Join:\n",
            "    Student_ID   Name  Marks\n",
            "0         101   Ravi     85\n",
            "1         102   Neha     90\n",
            "2         103  Kiran     78\n"
          ]
        }
      ]
    },
    {
      "cell_type": "code",
      "source": [
        "left = pd.merge(students, marks, on='Student_ID', how='left')\n",
        "print(\"\\nLeft Join:\\n\", left)\n"
      ],
      "metadata": {
        "colab": {
          "base_uri": "https://localhost:8080/"
        },
        "id": "nHOBocM5Yf4F",
        "outputId": "1f2ec340-9fc5-4c49-e334-e7870ca307a4"
      },
      "execution_count": 24,
      "outputs": [
        {
          "output_type": "stream",
          "name": "stdout",
          "text": [
            "\n",
            "Left Join:\n",
            "    Student_ID   Name  Marks\n",
            "0         101   Ravi   85.0\n",
            "1         102   Neha   90.0\n",
            "2         103  Kiran   78.0\n",
            "3         104   Sita    NaN\n"
          ]
        }
      ]
    },
    {
      "cell_type": "code",
      "source": [
        "right = pd.merge(students, marks, on='Student_ID', how='right')\n",
        "print(\"\\nRight Join:\\n\", right)"
      ],
      "metadata": {
        "colab": {
          "base_uri": "https://localhost:8080/"
        },
        "id": "d1Jluuc-Y21P",
        "outputId": "66d0ec76-d891-4517-cab4-5b4091b361ae"
      },
      "execution_count": 25,
      "outputs": [
        {
          "output_type": "stream",
          "name": "stdout",
          "text": [
            "\n",
            "Right Join:\n",
            "    Student_ID   Name  Marks\n",
            "0         101   Ravi     85\n",
            "1         102   Neha     90\n",
            "2         103  Kiran     78\n",
            "3         105    NaN     88\n"
          ]
        }
      ]
    },
    {
      "cell_type": "code",
      "source": [
        "outer = pd.merge(students, marks, on='Student_ID', how='outer')\n",
        "print(\"\\nOuter Join:\\n\", outer)"
      ],
      "metadata": {
        "colab": {
          "base_uri": "https://localhost:8080/"
        },
        "id": "3bPNM__6Y5O5",
        "outputId": "33d96f55-bd24-40ee-aa45-4fccd7a609e5"
      },
      "execution_count": 26,
      "outputs": [
        {
          "output_type": "stream",
          "name": "stdout",
          "text": [
            "\n",
            "Outer Join:\n",
            "    Student_ID   Name  Marks\n",
            "0         101   Ravi   85.0\n",
            "1         102   Neha   90.0\n",
            "2         103  Kiran   78.0\n",
            "3         104   Sita    NaN\n",
            "4         105    NaN   88.0\n"
          ]
        }
      ]
    },
    {
      "cell_type": "code",
      "source": [
        "students = pd.DataFrame({\n",
        "'Name': ['Ravi', 'Neha', 'Kiran', 'Sita']\n",
        "}, index=[101, 102, 103, 104])\n",
        "marks = pd.DataFrame({\n",
        "'Marks': [85, 90, 78, 88]\n",
        "}, index=[101, 102, 103, 105])\n",
        "joined_df = students.join(marks, how='outer')\n",
        "print(\"Joined DataFrame:\")\n",
        "print(joined_df)\n"
      ],
      "metadata": {
        "colab": {
          "base_uri": "https://localhost:8080/"
        },
        "id": "dTAEm53BY_zQ",
        "outputId": "707f3aca-3e8e-466f-8578-f297d70bbd1a"
      },
      "execution_count": 29,
      "outputs": [
        {
          "output_type": "stream",
          "name": "stdout",
          "text": [
            "Joined DataFrame:\n",
            "      Name  Marks\n",
            "101   Ravi   85.0\n",
            "102   Neha   90.0\n",
            "103  Kiran   78.0\n",
            "104   Sita    NaN\n",
            "105    NaN   88.0\n"
          ]
        }
      ]
    },
    {
      "cell_type": "code",
      "source": [
        "students = pd.DataFrame({\n",
        "'Student_ID': [101, 102, 103, 104],\n",
        "'Name': ['Ravi', 'Neha', 'Kiran', 'Sita'],\n",
        "'Department': ['CSE', 'ECE', 'MECH', 'CSE']\n",
        "})\n",
        "marks = pd.DataFrame({\n",
        "'Student_ID': [101, 102, 104, 105],\n",
        "'Marks': [85, 90, 92, 88]\n",
        "})\n",
        "final_df = pd.merge(students, marks, on='Student_ID',\n",
        "how='outer')\n",
        "print(\"Final Student Records:\")\n",
        "print(final_df)"
      ],
      "metadata": {
        "colab": {
          "base_uri": "https://localhost:8080/"
        },
        "id": "wVeup_ZhZZ6h",
        "outputId": "051d3a61-35a5-4e8f-81df-e247c7eced73"
      },
      "execution_count": 30,
      "outputs": [
        {
          "output_type": "stream",
          "name": "stdout",
          "text": [
            "Final Student Records:\n",
            "   Student_ID   Name Department  Marks\n",
            "0         101   Ravi        CSE   85.0\n",
            "1         102   Neha        ECE   90.0\n",
            "2         103  Kiran       MECH    NaN\n",
            "3         104   Sita        CSE   92.0\n",
            "4         105    NaN        NaN   88.0\n"
          ]
        }
      ]
    }
  ]
}