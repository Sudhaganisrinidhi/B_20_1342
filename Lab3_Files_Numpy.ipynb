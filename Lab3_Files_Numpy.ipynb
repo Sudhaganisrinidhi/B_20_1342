{
  "nbformat": 4,
  "nbformat_minor": 0,
  "metadata": {
    "colab": {
      "provenance": [],
      "authorship_tag": "ABX9TyPL13PdyIQk3yHXcic9aKGx",
      "include_colab_link": true
    },
    "kernelspec": {
      "name": "python3",
      "display_name": "Python 3"
    },
    "language_info": {
      "name": "python"
    }
  },
  "cells": [
    {
      "cell_type": "markdown",
      "metadata": {
        "id": "view-in-github",
        "colab_type": "text"
      },
      "source": [
        "<a href=\"https://colab.research.google.com/github/Sudhaganisrinidhi/B_20_1342/blob/main/Lab3_Files_Numpy.ipynb\" target=\"_parent\"><img src=\"https://colab.research.google.com/assets/colab-badge.svg\" alt=\"Open In Colab\"/></a>"
      ]
    },
    {
      "cell_type": "code",
      "execution_count": 2,
      "metadata": {
        "colab": {
          "base_uri": "https://localhost:8080/"
        },
        "id": "HPBqaQhI5M5A",
        "outputId": "238ccbb2-e86c-469e-b6b9-c23ae8be1acc"
      },
      "outputs": [
        {
          "output_type": "stream",
          "name": "stdout",
          "text": [
            "Data written successfully!\n"
          ]
        }
      ],
      "source": [
        "# writing to a file\n",
        "#open file in write mode\n",
        "fp=open(\"example.txt\",\"w\")\n",
        "#write text to file\n",
        "fp.write(\"Hello, B.tech students|\\n\")\n",
        "fp.write(\"This is file handling in python.\\n\")\n",
        "fp.write(\"sr university\")\n",
        "fp.write(\"suresh kumar\")\n",
        "#close file\n",
        "fp.close()\n",
        "print(\"Data written successfully!\")"
      ]
    },
    {
      "cell_type": "code",
      "source": [
        "#Reading fron a file\n",
        "#open file in read mode\n",
        "file=open(\"example.txt\", \"r\")\n",
        "#read entire content\n",
        "content=file.read()\n",
        "print(content)\n",
        "#close file\n",
        "file.close()"
      ],
      "metadata": {
        "colab": {
          "base_uri": "https://localhost:8080/"
        },
        "id": "FeGqEDhb7cA0",
        "outputId": "adc14052-6397-4431-85f3-fd6e6e7394b1"
      },
      "execution_count": 3,
      "outputs": [
        {
          "output_type": "stream",
          "name": "stdout",
          "text": [
            "Hello, B.tech students|\n",
            "This is file handling in python.\n",
            "sr universitysuresh kumar\n"
          ]
        }
      ]
    },
    {
      "cell_type": "code",
      "source": [
        "#reading line by line\n",
        "file=open(\"example.txt\",\"r\")\n",
        "line1=file.readline()\n",
        "print(\"First Line:\",line1)\n",
        "line2=file.readline()\n",
        "print(line2)\n",
        "line3=file.readline()\n",
        "print(line3)\n",
        "file.close()"
      ],
      "metadata": {
        "colab": {
          "base_uri": "https://localhost:8080/"
        },
        "id": "ZmmXNsxW9IyG",
        "outputId": "b9016611-db76-4ab2-b8c4-3aa5db371d75"
      },
      "execution_count": 11,
      "outputs": [
        {
          "output_type": "stream",
          "name": "stdout",
          "text": [
            "First Line: Hello, B.tech students|\n",
            "\n",
            "This is file handling in python.\n",
            "\n",
            "sr universitysuresh kumar\n"
          ]
        }
      ]
    },
    {
      "cell_type": "code",
      "source": [
        "#6.Reading All lines into a list\n",
        "file=open(\"example.txt\",\"r\")\n",
        "lines=file.readlines()\n",
        "print(lines)\n",
        "file.close()"
      ],
      "metadata": {
        "colab": {
          "base_uri": "https://localhost:8080/"
        },
        "id": "NV9NxBP0-qHO",
        "outputId": "d8a94cd0-8a0a-4d07-f4a0-84a0c81176cc"
      },
      "execution_count": 12,
      "outputs": [
        {
          "output_type": "stream",
          "name": "stdout",
          "text": [
            "['Hello, B.tech students|\\n', 'This is file handling in python.\\n', 'sr universitysuresh kumar']\n"
          ]
        }
      ]
    },
    {
      "cell_type": "code",
      "source": [
        "#7.Appending data to an existing file\n",
        "file=open(\"example.txt\",\"a\")\n",
        "file.write(\"Appending new data...\\n\")\n",
        "file.close()"
      ],
      "metadata": {
        "id": "-BEVYLbA_PgR"
      },
      "execution_count": 14,
      "outputs": []
    },
    {
      "cell_type": "code",
      "source": [
        "with open(\"example.txt\",\"r\")as file:\n",
        "    content=file.read()\n",
        "    print(content)"
      ],
      "metadata": {
        "colab": {
          "base_uri": "https://localhost:8080/"
        },
        "id": "0m1M_-yS86cH",
        "outputId": "b8505fff-97b2-483d-a23a-cf331462124b"
      },
      "execution_count": 8,
      "outputs": [
        {
          "output_type": "stream",
          "name": "stdout",
          "text": [
            "Hello, B.tech students|\n",
            "This is file handling in python.\n",
            "sr universitysuresh kumar\n"
          ]
        }
      ]
    },
    {
      "cell_type": "code",
      "source": [
        "import csv\n",
        "#writing to csv\n",
        "with open(\"data.csv\", \"w\", newline='')as fp:\n",
        "  wr=csv.writer(fp)\n",
        "  wr.writerows([[\"Name\", \"Age\", \"course\"],[\"aaa\",21,\"CSE\"],[\"bbb\", 20, \"ECE\"]])\n",
        ""
      ],
      "metadata": {
        "id": "_6PCvBy5BUuQ"
      },
      "execution_count": 16,
      "outputs": []
    },
    {
      "cell_type": "code",
      "source": [
        "#Reading from csv\n",
        "with open(\"data.csv\",\"r\")as fp:\n",
        "  rd=csv.reader(fp)\n",
        "  for row in rd:\n",
        "    print(row)"
      ],
      "metadata": {
        "colab": {
          "base_uri": "https://localhost:8080/"
        },
        "id": "qFhvgkGICf7K",
        "outputId": "f1777967-fc13-4d7c-8056-4c76842cd6c7"
      },
      "execution_count": 17,
      "outputs": [
        {
          "output_type": "stream",
          "name": "stdout",
          "text": [
            "['Name', 'Age', 'course']\n",
            "['aaa', '21', 'CSE']\n",
            "['bbb', '20', 'ECE']\n"
          ]
        }
      ]
    },
    {
      "cell_type": "code",
      "source": [
        "#1DArray\n",
        "import numpy as np\n",
        "arr1=np.array([1,2,3,4])\n",
        "print(\"1D Array:\",arr1)"
      ],
      "metadata": {
        "colab": {
          "base_uri": "https://localhost:8080/"
        },
        "id": "1fDtJ8DCEM0P",
        "outputId": "dd9ed2a4-ef06-4bd6-f596-fc59d99db3e6"
      },
      "execution_count": 20,
      "outputs": [
        {
          "output_type": "stream",
          "name": "stdout",
          "text": [
            "1D Array: [1 2 3 4]\n"
          ]
        }
      ]
    },
    {
      "cell_type": "code",
      "source": [
        "#2D array\n",
        "arr2=np.array([[1,2,3],[4,5,6]])\n",
        "print(\"2D Array:\")\n",
        "print(arr2)"
      ],
      "metadata": {
        "colab": {
          "base_uri": "https://localhost:8080/"
        },
        "id": "J_9kEoMJEqoP",
        "outputId": "717573d8-990d-477a-ae31-1a0ccbfdccd0"
      },
      "execution_count": 21,
      "outputs": [
        {
          "output_type": "stream",
          "name": "stdout",
          "text": [
            "2D Array:\n",
            "[[1 2 3]\n",
            " [4 5 6]]\n"
          ]
        }
      ]
    },
    {
      "cell_type": "code",
      "source": [
        "#Zeros Array\n",
        "zeros_arr=np.zeros((3,3))\n",
        "print(\"Zeros Array:\")\n",
        "print(zeros_arr)"
      ],
      "metadata": {
        "colab": {
          "base_uri": "https://localhost:8080/"
        },
        "id": "Ol6PTM_bEwww",
        "outputId": "aeaa6e77-4ce7-4c1d-8b37-1d9f5e7af2a4"
      },
      "execution_count": 22,
      "outputs": [
        {
          "output_type": "stream",
          "name": "stdout",
          "text": [
            "Zeros Array:\n",
            "[[0. 0. 0.]\n",
            " [0. 0. 0.]\n",
            " [0. 0. 0.]]\n"
          ]
        }
      ]
    },
    {
      "cell_type": "code",
      "source": [
        "#ones Array\n",
        "ones_arr=np.ones((2,4))\n",
        "print(\"Ones Array:\")\n",
        "print(ones_arr)"
      ],
      "metadata": {
        "colab": {
          "base_uri": "https://localhost:8080/"
        },
        "id": "eRh2pWjvE5vL",
        "outputId": "80b4d0e3-e878-4d27-fe13-ddff4d5ac83e"
      },
      "execution_count": 23,
      "outputs": [
        {
          "output_type": "stream",
          "name": "stdout",
          "text": [
            "Ones Array:\n",
            "[[1. 1. 1. 1.]\n",
            " [1. 1. 1. 1.]]\n"
          ]
        }
      ]
    },
    {
      "cell_type": "code",
      "source": [
        "#Range of numbers\n",
        "range_arr=np.arange(0,10,2)\n",
        "print(\"Range Array:\")\n",
        "print(range_arr)"
      ],
      "metadata": {
        "colab": {
          "base_uri": "https://localhost:8080/"
        },
        "id": "AzCssnOgFFa3",
        "outputId": "bf45d3e2-1d5b-49de-f627-c0ecbeeb2b6d"
      },
      "execution_count": 24,
      "outputs": [
        {
          "output_type": "stream",
          "name": "stdout",
          "text": [
            "Range Array:\n",
            "[0 2 4 6 8]\n"
          ]
        }
      ]
    },
    {
      "cell_type": "code",
      "source": [
        "#Random array\n",
        "rand_arr=np.random.rand(2,3)\n",
        "print(\"Random Array:\")\n",
        "print(rand_arr)"
      ],
      "metadata": {
        "colab": {
          "base_uri": "https://localhost:8080/"
        },
        "id": "4-vQXiUNFMw5",
        "outputId": "e49734f0-02e2-475f-9230-68f2db4f2da8"
      },
      "execution_count": 25,
      "outputs": [
        {
          "output_type": "stream",
          "name": "stdout",
          "text": [
            "Random Array:\n",
            "[[0.59530315 0.91426241 0.88691059]\n",
            " [0.5876366  0.37176954 0.55261689]]\n"
          ]
        }
      ]
    },
    {
      "cell_type": "code",
      "source": [
        "#Array Attributes\n",
        "arr=np.array([[1,2,3],[4,5,6]])\n",
        "print(\"Shape:\",arr.shape)\n",
        "print(\"Dimension:\",arr.ndim)\n",
        "print(\"Size:\",arr.size)\n",
        "print(\"Data Type:\",arr.dtype)\n",
        "print(\"Item Size:\",arr.itemsize)\n",
        "print(\"Type:\",type(arr))"
      ],
      "metadata": {
        "colab": {
          "base_uri": "https://localhost:8080/"
        },
        "id": "MguZ5pzJGxOv",
        "outputId": "793e5c6c-ccb0-422d-ec83-55f2292ffee5"
      },
      "execution_count": 26,
      "outputs": [
        {
          "output_type": "stream",
          "name": "stdout",
          "text": [
            "Shape: (2, 3)\n",
            "Dimension: 2\n",
            "Size: 6\n",
            "Data Type: int64\n",
            "Item Size: 8\n",
            "Type: <class 'numpy.ndarray'>\n"
          ]
        }
      ]
    },
    {
      "cell_type": "code",
      "source": [
        "#Array indexing and slicing\n",
        "arr=np.array([10,20,30,40,50])\n",
        "print(\"First element:\",arr[0])\n",
        "print(\"Slice[1:4]:\",arr[1:4])\n",
        "print(\"Every second element:\",arr[::2])"
      ],
      "metadata": {
        "colab": {
          "base_uri": "https://localhost:8080/"
        },
        "id": "9zo6xQSVK7eI",
        "outputId": "5d5f646a-b80e-4484-f034-a873c5c8f625"
      },
      "execution_count": 27,
      "outputs": [
        {
          "output_type": "stream",
          "name": "stdout",
          "text": [
            "First element: 10\n",
            "Slice[1:4]: [20 30 40]\n",
            "Every second element: [10 30 50]\n"
          ]
        }
      ]
    },
    {
      "cell_type": "code",
      "source": [
        "#2D indexing\n",
        "arr2=np.array([[1,2,3],[4,5,6]])\n",
        "print(\"Element at row 1,col 2:\",arr2[0,1])\n",
        "print(\"Second row:\",arr2[1,:])\n",
        "print(\"Second column:\",arr2[:, 1])"
      ],
      "metadata": {
        "colab": {
          "base_uri": "https://localhost:8080/"
        },
        "id": "_OkOMuGSL6ot",
        "outputId": "08314ccd-a75d-44ee-c88f-e5468fc4e8ca"
      },
      "execution_count": 28,
      "outputs": [
        {
          "output_type": "stream",
          "name": "stdout",
          "text": [
            "Element at row 1,col 2: 2\n",
            "Second row: [4 5 6]\n",
            "Second column: [2 5]\n"
          ]
        }
      ]
    },
    {
      "cell_type": "code",
      "source": [
        "#Array operations\n",
        "a=np.array([1,2,3])\n",
        "b=np.array([4,5,6])\n",
        "print(\"Addition:\",a+b)\n",
        "print(\"Subtraction:\",a-b)\n",
        "print(\"Multiplication:\",a*b)\n",
        "print(\"Division:\",a/b)\n",
        "print(\"power:\",a**2)"
      ],
      "metadata": {
        "colab": {
          "base_uri": "https://localhost:8080/"
        },
        "id": "lpchWzNyMYwE",
        "outputId": "78ec4250-000c-48e8-f80a-789cc4010910"
      },
      "execution_count": 36,
      "outputs": [
        {
          "output_type": "stream",
          "name": "stdout",
          "text": [
            "Addition: [5 7 9]\n",
            "Subtraction: [-3 -3 -3]\n",
            "Multiplication: [ 4 10 18]\n",
            "Division: [0.25 0.4  0.5 ]\n",
            "power: [1 4 9]\n"
          ]
        }
      ]
    },
    {
      "cell_type": "code",
      "source": [
        "arr = np.array([0, np.pi/2, np.pi])\n",
        "print(\"Sine:\", np.sin(arr))\n",
        "print(\"Cosine:\", np.cos(arr))\n",
        "print(\"Square root:\", np.sqrt([1, 4, 9]))\n",
        "print(\"Exponential:\", np.exp([1, 2]))\n",
        "print(\"Logarithm:\", np.log([1, np.e, np.e**2]))"
      ],
      "metadata": {
        "colab": {
          "base_uri": "https://localhost:8080/"
        },
        "id": "OsgfMpYaSUXm",
        "outputId": "9e607aec-8b54-4d91-d399-817bdbfc4b54"
      },
      "execution_count": 31,
      "outputs": [
        {
          "output_type": "stream",
          "name": "stdout",
          "text": [
            "Sine: [0.0000000e+00 1.0000000e+00 1.2246468e-16]\n",
            "Cosine: [ 1.000000e+00  6.123234e-17 -1.000000e+00]\n",
            "Square root: [1. 2. 3.]\n",
            "Exponential: [2.71828183 7.3890561 ]\n",
            "Logarithm: [0. 1. 2.]\n"
          ]
        }
      ]
    },
    {
      "cell_type": "code",
      "source": [
        "arr = np.array([[1, 2, 3], [4, 5, 6]])\n",
        "\n",
        "print(\"Sum:\", np.sum(arr))\n",
        "print(\"Max:\", np.max(arr))\n",
        "print(\"Min:\", np.min(arr))\n",
        "print(\"Mean:\", np.mean(arr))\n",
        "print(\"Standard Deviation:\", np.std(arr))\n",
        "print(\"Sum along axis 0:\", np.sum(arr, axis=0))\n",
        "print(\"Sum along axis 1:\", np.sum(arr,axis=1))"
      ],
      "metadata": {
        "colab": {
          "base_uri": "https://localhost:8080/"
        },
        "id": "BAs69EndSkmU",
        "outputId": "0f47821a-ff26-4a17-ca25-184b30e83025"
      },
      "execution_count": 33,
      "outputs": [
        {
          "output_type": "stream",
          "name": "stdout",
          "text": [
            "Sum: 21\n",
            "Max: 6\n",
            "Min: 1\n",
            "Mean: 3.5\n",
            "Standard Deviation: 1.707825127659933\n",
            "Sum along axis 0: [5 7 9]\n",
            "Sum along axis 1: [ 6 15]\n"
          ]
        }
      ]
    },
    {
      "cell_type": "code",
      "source": [
        "a = np.array([1, 2, 3])\n",
        "b = 5\n",
        "print(\"Add scalar to array:\", a + b)  # [6 7 8]\n",
        "\n",
        "c = np.array([[1], [2], [3]])\n",
        "d = np.array([4, 5, 6])\n",
        "print(\"Broadcasted sum:\\n\",c+d)"
      ],
      "metadata": {
        "colab": {
          "base_uri": "https://localhost:8080/"
        },
        "id": "siCFC9SKS87q",
        "outputId": "2e8aa035-48b1-476b-d935-51cf40baa162"
      },
      "execution_count": 35,
      "outputs": [
        {
          "output_type": "stream",
          "name": "stdout",
          "text": [
            "Add scalar to array: [6 7 8]\n",
            "Broadcasted sum:\n",
            " [[5 6 7]\n",
            " [6 7 8]\n",
            " [7 8 9]]\n"
          ]
        }
      ]
    },
    {
      "cell_type": "code",
      "source": [
        "A = np.array([[1, 2], [3, 4]])\n",
        "B = np.array([[5, 6], [7, 8]])\n",
        "\n",
        "print(\"Matrix Multiplication:\\n\", np.dot(A, B))\n",
        "print(\"Transpose:\\n\", A.T)\n",
        "print(\"Inverse:\\n\", np.linalg.inv(A))\n",
        "print(\"Determinant:\", np.linalg.det(A))"
      ],
      "metadata": {
        "colab": {
          "base_uri": "https://localhost:8080/"
        },
        "id": "CJRFjsUtVI4w",
        "outputId": "f37beb2d-c490-4f0d-d1c3-091bffdf67e4"
      },
      "execution_count": 37,
      "outputs": [
        {
          "output_type": "stream",
          "name": "stdout",
          "text": [
            "Matrix Multiplication:\n",
            " [[19 22]\n",
            " [43 50]]\n",
            "Transpose:\n",
            " [[1 3]\n",
            " [2 4]]\n",
            "Inverse:\n",
            " [[-2.   1. ]\n",
            " [ 1.5 -0.5]]\n",
            "Determinant: -2.0000000000000004\n"
          ]
        }
      ]
    },
    {
      "cell_type": "code",
      "source": [
        "import numpy as np\n",
        "\n",
        "# Marks of students in 3 subjects\n",
        "marks = np.array([\n",
        "    [85, 90, 88],\n",
        "    [78, 81, 85],\n",
        "    [92, 89, 95]\n",
        "])\n",
        "\n",
        "print(\"Average marks per student:\", np.mean(marks, axis=1))\n",
        "print(\"Average marks per subject:\", np.mean(marks, axis=0))\n",
        "print(\"Highest marks in each subject:\", np.max(marks, axis=0))\n",
        "print(\"Lowest marks in each subject:\", np.min(marks,axis=0))"
      ],
      "metadata": {
        "colab": {
          "base_uri": "https://localhost:8080/"
        },
        "id": "oSMk8zNTXPIN",
        "outputId": "571bcc25-67ac-483e-99be-401d4accaade"
      },
      "execution_count": 39,
      "outputs": [
        {
          "output_type": "stream",
          "name": "stdout",
          "text": [
            "Average marks per student: [87.66666667 81.33333333 92.        ]\n",
            "Average marks per subject: [85.         86.66666667 89.33333333]\n",
            "Highest marks in each subject: [92 90 95]\n",
            "Lowest marks in each subject: [78 81 85]\n"
          ]
        }
      ]
    }
  ]
}