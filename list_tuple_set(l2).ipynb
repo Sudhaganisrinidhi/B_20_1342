{
  "nbformat": 4,
  "nbformat_minor": 0,
  "metadata": {
    "colab": {
      "provenance": [],
      "authorship_tag": "ABX9TyOiIJB+bX8/QrVY4axAE5Pz",
      "include_colab_link": true
    },
    "kernelspec": {
      "name": "python3",
      "display_name": "Python 3"
    },
    "language_info": {
      "name": "python"
    }
  },
  "cells": [
    {
      "cell_type": "markdown",
      "metadata": {
        "id": "view-in-github",
        "colab_type": "text"
      },
      "source": [
        "<a href=\"https://colab.research.google.com/github/Sudhaganisrinidhi/B_20_1342/blob/main/list_tuple_set(l2).ipynb\" target=\"_parent\"><img src=\"https://colab.research.google.com/assets/colab-badge.svg\" alt=\"Open In Colab\"/></a>"
      ]
    },
    {
      "cell_type": "code",
      "execution_count": 1,
      "metadata": {
        "colab": {
          "base_uri": "https://localhost:8080/"
        },
        "id": "EYihlANz4S62",
        "outputId": "451f9d38-7a71-446d-d11c-da00ea212ed3"
      },
      "outputs": [
        {
          "output_type": "stream",
          "name": "stdout",
          "text": [
            "[10, 20, 30, 40, 50]\n",
            "found\n",
            "<class 'int'> 10\n",
            "<class 'float'> 99.9\n",
            "<class 'str'> CSE\n",
            "[10, 20, 10, 20, 10, 20]\n",
            "[10, 20, 30, 40, 50]\n",
            "[10, 20, 40, 50]\n",
            "[10, 20, 25, 40, 50]\n",
            "[9, 16, 26, 45, 56, 92]\n",
            "[92, 56, 45, 26, 16, 9]\n",
            "244\n",
            "9\n",
            "92\n"
          ]
        }
      ],
      "source": [
        "l=[10,20,30,40,50]\n",
        "print(l)\n",
        "if 20 in l:\n",
        "    print('found')\n",
        "else:\n",
        "    print('not found')\n",
        "l=[10,99.9,'CSE']\n",
        "for i in l:\n",
        "    print(type(i),i)\n",
        "l=[10,20,10,20,10,20]\n",
        "print(l)\n",
        "l=[10,20,30,40]\n",
        "l.append(50)\n",
        "print(l)\n",
        "l.remove(30)\n",
        "print(l)\n",
        "l.insert(2,25)\n",
        "print(l)\n",
        "l.pop()\n",
        "l=[9,26,92,56,45,16]\n",
        "l.sort()\n",
        "print(l)\n",
        "l.reverse()\n",
        "print(l)\n",
        "print(sum(l))\n",
        "print(min(l))\n",
        "print(max(l))"
      ]
    },
    {
      "cell_type": "code",
      "source": [
        "student=[[10,20],[30,40],[50,60],[70,80],[90,100]]\n",
        "print(student)"
      ],
      "metadata": {
        "colab": {
          "base_uri": "https://localhost:8080/"
        },
        "id": "_y6nI0P35WHj",
        "outputId": "1890d66d-bfb4-49a6-b4bc-af6c11aebb29"
      },
      "execution_count": 2,
      "outputs": [
        {
          "output_type": "stream",
          "name": "stdout",
          "text": [
            "[[10, 20], [30, 40], [50, 60], [70, 80], [90, 100]]\n"
          ]
        }
      ]
    },
    {
      "cell_type": "code",
      "source": [
        "t=('cherry','banana','apple')\n",
        "print(t)\n",
        "len(t)"
      ],
      "metadata": {
        "colab": {
          "base_uri": "https://localhost:8080/"
        },
        "id": "Dv_4_2GN5t0G",
        "outputId": "fc2e1042-5548-4d72-84ec-13a42144daa7"
      },
      "execution_count": 4,
      "outputs": [
        {
          "output_type": "stream",
          "name": "stdout",
          "text": [
            "('cherry', 'banana', 'apple')\n"
          ]
        },
        {
          "output_type": "execute_result",
          "data": {
            "text/plain": [
              "3"
            ]
          },
          "metadata": {},
          "execution_count": 4
        }
      ]
    },
    {
      "cell_type": "code",
      "source": [
        "if \"apple\" in t:\n",
        "  print(\"yes\")\n",
        "else:\n",
        "  print(\"No\")"
      ],
      "metadata": {
        "colab": {
          "base_uri": "https://localhost:8080/"
        },
        "id": "3Gn6tfJM6i1U",
        "outputId": "a0d9c9ed-c134-42c5-849d-b26063b34f11"
      },
      "execution_count": 6,
      "outputs": [
        {
          "output_type": "stream",
          "name": "stdout",
          "text": [
            "yes\n"
          ]
        }
      ]
    },
    {
      "cell_type": "code",
      "source": [
        "t=(10,20,30,40)\n",
        "print(t)\n",
        "t=(10,20,30,10,20)\n",
        "print(t)\n",
        "t=(10,99.9,'CSE')\n",
        "for i in t:\n",
        "  print(type(i),i)\n",
        "  if 20 in t:\n",
        "    print(\"found\")\n",
        "  else:\n",
        "    print(\"not found\")\n",
        ""
      ],
      "metadata": {
        "colab": {
          "base_uri": "https://localhost:8080/"
        },
        "id": "sBPOfpKR6w4K",
        "outputId": "977bacf3-988d-4366-8b89-019add1e88ad"
      },
      "execution_count": 8,
      "outputs": [
        {
          "output_type": "stream",
          "name": "stdout",
          "text": [
            "(10, 20, 30, 40)\n",
            "(10, 20, 30, 10, 20)\n",
            "<class 'int'> 10\n",
            "not found\n",
            "<class 'float'> 99.9\n",
            "not found\n",
            "<class 'str'> CSE\n",
            "not found\n"
          ]
        }
      ]
    },
    {
      "cell_type": "code",
      "source": [
        "t=(1,2,3,2,3,2,4)\n",
        "print(t.count(2))\n",
        "print(t.index(4))"
      ],
      "metadata": {
        "colab": {
          "base_uri": "https://localhost:8080/"
        },
        "id": "vrnn1Kzi7u2k",
        "outputId": "4bdd0d61-6e56-43b7-8258-1063f4b026d9"
      },
      "execution_count": 9,
      "outputs": [
        {
          "output_type": "stream",
          "name": "stdout",
          "text": [
            "3\n",
            "6\n"
          ]
        }
      ]
    },
    {
      "cell_type": "code",
      "source": [
        "l=[10,20,30,40]\n",
        "mytuple=tuple(l)\n",
        "print(mytuple)\n",
        "student=((10,20),(30,40),(50,60))\n",
        "print(student)"
      ],
      "metadata": {
        "colab": {
          "base_uri": "https://localhost:8080/"
        },
        "id": "7uJ6wVw-8FdZ",
        "outputId": "f30a45b0-7675-461b-986d-045d6fce0128"
      },
      "execution_count": 12,
      "outputs": [
        {
          "output_type": "stream",
          "name": "stdout",
          "text": [
            "(10, 20, 30, 40)\n",
            "((10, 20), (30, 40), (50, 60))\n"
          ]
        }
      ]
    },
    {
      "cell_type": "code",
      "source": [
        "student={\"name\":\"python\",\"id\":101,\"branch\":\"CSE\"}\n",
        "print(student.keys())\n",
        "print(student.values())\n",
        "print(student.items())\n"
      ],
      "metadata": {
        "colab": {
          "base_uri": "https://localhost:8080/"
        },
        "id": "0S6hmhcuAdTw",
        "outputId": "62a1bd84-9d0a-4d0d-b04b-dd651005d4f6"
      },
      "execution_count": 13,
      "outputs": [
        {
          "output_type": "stream",
          "name": "stdout",
          "text": [
            "dict_keys(['name', 'id', 'branch'])\n",
            "dict_values(['python', 101, 'CSE'])\n",
            "dict_items([('name', 'python'), ('id', 101), ('branch', 'CSE')])\n"
          ]
        }
      ]
    },
    {
      "cell_type": "code",
      "source": [
        "for key,value in student.items():\n",
        "  print(key,value)"
      ],
      "metadata": {
        "colab": {
          "base_uri": "https://localhost:8080/"
        },
        "id": "t7Ckld8mBLHq",
        "outputId": "fe10823d-422c-48a4-ff55-7f467593c91e"
      },
      "execution_count": 15,
      "outputs": [
        {
          "output_type": "stream",
          "name": "stdout",
          "text": [
            "name python\n",
            "id 101\n",
            "branch CSE\n"
          ]
        }
      ]
    },
    {
      "cell_type": "code",
      "source": [
        "student[\"college\"]=\"SRU\"\n",
        "print(student)"
      ],
      "metadata": {
        "colab": {
          "base_uri": "https://localhost:8080/"
        },
        "id": "29j7qFJxBba7",
        "outputId": "10768c30-a0b1-40b0-9746-ae95d6a75cbc"
      },
      "execution_count": 16,
      "outputs": [
        {
          "output_type": "stream",
          "name": "stdout",
          "text": [
            "{'name': 'python', 'id': 101, 'branch': 'CSE', 'college': 'SRU'}\n"
          ]
        }
      ]
    },
    {
      "cell_type": "code",
      "source": [
        "student[\"branch\"]=\"AIML\"\n",
        "print(student)"
      ],
      "metadata": {
        "colab": {
          "base_uri": "https://localhost:8080/"
        },
        "id": "mVtpoE9dBlmM",
        "outputId": "aaee7715-e5c3-4de6-bc94-8f866b894e82"
      },
      "execution_count": 17,
      "outputs": [
        {
          "output_type": "stream",
          "name": "stdout",
          "text": [
            "{'name': 'python', 'id': 101, 'branch': 'AIML', 'college': 'SRU'}\n"
          ]
        }
      ]
    },
    {
      "cell_type": "code",
      "source": [
        "if \"name\" in student:\n",
        "  print(\"yes\")\n",
        "else:\n",
        "  print(\"no\")"
      ],
      "metadata": {
        "colab": {
          "base_uri": "https://localhost:8080/"
        },
        "id": "k0fP8AU3Bs8Q",
        "outputId": "3773e240-6b65-4019-b438-8cf68be5ab26"
      },
      "execution_count": 18,
      "outputs": [
        {
          "output_type": "stream",
          "name": "stdout",
          "text": [
            "yes\n"
          ]
        }
      ]
    },
    {
      "cell_type": "code",
      "source": [
        "Student={101:{\"name\":\"C\",\"id\":101,\"branch\":\"CSE\"},102:{\"name\":\"C++\",\"id\":102,\"branch\":\"CSE\"},103:{\"name\":\"Java\",\"id\":103,\"branch\":\"CSE\"}}\n",
        "print(Student)"
      ],
      "metadata": {
        "colab": {
          "base_uri": "https://localhost:8080/"
        },
        "id": "ngcyWB9wB72m",
        "outputId": "8153fef7-9368-4af4-fc44-21110a661b89"
      },
      "execution_count": 19,
      "outputs": [
        {
          "output_type": "stream",
          "name": "stdout",
          "text": [
            "{101: {'name': 'C', 'id': 101, 'branch': 'CSE'}, 102: {'name': 'C++', 'id': 102, 'branch': 'CSE'}, 103: {'name': 'Java', 'id': 103, 'branch': 'CSE'}}\n"
          ]
        }
      ]
    },
    {
      "cell_type": "code",
      "source": [
        "s={1,2,3,4,5}\n",
        "print(s)"
      ],
      "metadata": {
        "colab": {
          "base_uri": "https://localhost:8080/"
        },
        "id": "ECoOJokZDHD_",
        "outputId": "9cab4806-0952-426b-c5d6-4663f6ba4ab6"
      },
      "execution_count": 20,
      "outputs": [
        {
          "output_type": "stream",
          "name": "stdout",
          "text": [
            "{1, 2, 3, 4, 5}\n"
          ]
        }
      ]
    },
    {
      "cell_type": "code",
      "source": [
        "s={1,2,3,2,3,2}\n",
        "print(s)"
      ],
      "metadata": {
        "colab": {
          "base_uri": "https://localhost:8080/"
        },
        "id": "O1C_Q4hgHGI_",
        "outputId": "ab093d6d-6ffe-4a6d-d24c-ab1818fd7ec4"
      },
      "execution_count": 21,
      "outputs": [
        {
          "output_type": "stream",
          "name": "stdout",
          "text": [
            "{1, 2, 3}\n"
          ]
        }
      ]
    },
    {
      "cell_type": "code",
      "source": [
        "for i in s:\n",
        "  print(i)\n",
        ""
      ],
      "metadata": {
        "colab": {
          "base_uri": "https://localhost:8080/"
        },
        "id": "2h-Ek-3KHUsc",
        "outputId": "4dbb1fd2-48c5-4f49-eb6e-d46785e8f0fe"
      },
      "execution_count": 22,
      "outputs": [
        {
          "output_type": "stream",
          "name": "stdout",
          "text": [
            "1\n",
            "2\n",
            "3\n"
          ]
        }
      ]
    },
    {
      "cell_type": "code",
      "source": [
        "if 2 in s:\n",
        "  print(\"yes\")\n",
        "else:\n",
        "  print(\"no\")"
      ],
      "metadata": {
        "colab": {
          "base_uri": "https://localhost:8080/"
        },
        "id": "Z1Rw6TMTHfd0",
        "outputId": "30228edf-b9f0-4a92-bcec-7a28b78b278b"
      },
      "execution_count": 23,
      "outputs": [
        {
          "output_type": "stream",
          "name": "stdout",
          "text": [
            "yes\n"
          ]
        }
      ]
    },
    {
      "cell_type": "code",
      "source": [
        "a={1,2,3}\n",
        "b={3,4,5}\n",
        "print(\"union\",a|b)\n",
        "print(\"intersection\",a&b)\n",
        "print(\"difference\",a-b)\n"
      ],
      "metadata": {
        "colab": {
          "base_uri": "https://localhost:8080/"
        },
        "id": "9fvO42-WHojR",
        "outputId": "e237704a-17e2-45e9-a91a-e7ed37fbc36b"
      },
      "execution_count": 26,
      "outputs": [
        {
          "output_type": "stream",
          "name": "stdout",
          "text": [
            "union {1, 2, 3, 4, 5}\n",
            "intersection {3}\n",
            "difference {1, 2}\n"
          ]
        }
      ]
    },
    {
      "cell_type": "code",
      "source": [
        "s={1,2,3}\n",
        "s.add(4)\n",
        "print(s)\n",
        "s.remove(2)\n",
        "print(s)\n",
        "s.clear()"
      ],
      "metadata": {
        "colab": {
          "base_uri": "https://localhost:8080/"
        },
        "id": "NmD-RcYzIlmv",
        "outputId": "9a59f09e-7c37-4db1-ac2c-e389deea30c1"
      },
      "execution_count": 28,
      "outputs": [
        {
          "output_type": "stream",
          "name": "stdout",
          "text": [
            "{1, 2, 3, 4}\n",
            "{1, 3, 4}\n"
          ]
        }
      ]
    }
  ]
}